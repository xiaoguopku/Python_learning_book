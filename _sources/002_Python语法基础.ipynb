{
 "cells": [
  {
   "cell_type": "markdown",
   "metadata": {},
   "source": [
    "% # Python 语法基础"
   ]
  },
  {
   "cell_type": "code",
   "execution_count": 1,
   "metadata": {
    "ExecuteTime": {
     "end_time": "2020-10-01T03:04:00.834338Z",
     "start_time": "2020-10-01T03:04:00.832218Z"
    }
   },
   "outputs": [],
   "source": [
    "from IPython.core.interactiveshell import InteractiveShell\n",
    "InteractiveShell.ast_node_interactivity = \"all\""
   ]
  },
  {
   "cell_type": "markdown",
   "metadata": {},
   "source": [
    "% 本章大部分内容来自《简明 Python 教程》的学习整理，该教程采用 [知识共享 署名-相同方式共享 国际 4.0 协议（CC BY-SA Intl. 4.0）] (http://creativecommons.org/licenses/by-sa/4.0/) 进行授权，地址见 https://bop.mol.uno/ ，原著地址见 https://python.swaroopch.com/"
   ]
  },
  {
   "cell_type": "markdown",
   "metadata": {},
   "source": [
    "## 注释\n",
    "\n",
    "井号`#`右侧的文字都会被认为是注释，Python 中没有多行注释。注释与取消注释的快捷键是Ctrl + /，可同时对多行用快捷键进行注释。"
   ]
  },
  {
   "cell_type": "markdown",
   "metadata": {},
   "source": [
    "## Python 数据类型\n",
    "\n",
    "Python的标准库中有一些内建的类型，用于处理数值数据、字符串、布尔值，和日期时间。这些单值类型被称为标量类型，本书中称其为标量。下表列出了主要的标量。日期和时间处理会另外讨论，因为它们是标准库的datetime模块提供的。\n",
    "\n",
    "之后我们会了解如何通过**类**（Classes）创建我们自己的类型。\n",
    "\n",
    "<img src=\"标量类型.png\" alt=\"标量类型\" class=\"bg-primary\">\n",
    "\n",
    "\n",
    "### 字面常量\n",
    "\n",
    "- 数字\n",
    "    - 整数（ Integers），如 2\n",
    "    - 浮点数（ Floats） ，如 3.23，52.3E-4\n",
    "- 字符串\n",
    "    - 单行字符串：字符串既可以放在单引号中，也可以放在双引号中，效果相同。如果字符串本身包含引号，只含单引号或双引号的情况下，可以将单引号放在双引号内，或将双引号放在单引号内。\n",
    "    - 多行字符串：你可以通过使用三个引号—— `\"\"\"` 或 `'''` 来指定多行字符串。 你可以在三引号之间自由地使用单引号与双引号。 "
   ]
  },
  {
   "cell_type": "code",
   "execution_count": 2,
   "metadata": {
    "ExecuteTime": {
     "end_time": "2020-10-01T03:04:01.665203Z",
     "start_time": "2020-10-01T03:04:01.656425Z"
    }
   },
   "outputs": [
    {
     "data": {
      "text/plain": [
       "'这是一段多行字符串。 这是它的第一行。\\nThis is the second line.\\n\"What\\'s your name?,\" I asked.\\nHe said \"Bond, James Bond.\"\\n'"
      ]
     },
     "execution_count": 2,
     "metadata": {},
     "output_type": "execute_result"
    }
   ],
   "source": [
    "'''这是一段多行字符串。 这是它的第一行。\n",
    "This is the second line.\n",
    "\"What's your name?,\" I asked.\n",
    "He said \"Bond, James Bond.\"\n",
    "'''"
   ]
  },
  {
   "cell_type": "markdown",
   "metadata": {},
   "source": [
    "### 字符串操作\n",
    " "
   ]
  },
  {
   "cell_type": "markdown",
   "metadata": {},
   "source": [
    "#### `print`函数\n",
    "\n",
    "`print`函数会打印结果，但是不在Output结果中。\n",
    "\n",
    "另外，`print`函数总是会以一个不可见的“新一行”字符（ \\n ）\n",
    "结尾， 因此重复调用 print 将会在相互独立的一行中分别打印。 为防止打印过程中出现这一\n",
    "换行符， 你可以通过 end 指定其应以空白结尾，或者你通过 end 指定以空格结尾："
   ]
  },
  {
   "cell_type": "code",
   "execution_count": 3,
   "metadata": {
    "ExecuteTime": {
     "end_time": "2020-10-01T03:04:02.090818Z",
     "start_time": "2020-10-01T03:04:02.084748Z"
    }
   },
   "outputs": [
    {
     "name": "stdout",
     "output_type": "stream",
     "text": [
      "ab\n",
      "a b c\n"
     ]
    },
    {
     "data": {
      "text/plain": [
       "'a'"
      ]
     },
     "execution_count": 3,
     "metadata": {},
     "output_type": "execute_result"
    },
    {
     "data": {
      "text/plain": [
       "'b'"
      ]
     },
     "execution_count": 3,
     "metadata": {},
     "output_type": "execute_result"
    }
   ],
   "source": [
    "print('a', end='')\n",
    "print('b')\n",
    "\n",
    "print('a', end=' ')\n",
    "print('b', end=' ')\n",
    "print('c')\n",
    "\n",
    "'a'\n",
    "'b'"
   ]
  },
  {
   "cell_type": "markdown",
   "metadata": {},
   "source": [
    "`print` 函数可以在一行中打印多个变量，包括数字和字符串混排，并且会自动加上空格，下面是例子："
   ]
  },
  {
   "cell_type": "code",
   "execution_count": 4,
   "metadata": {
    "ExecuteTime": {
     "end_time": "2020-10-01T03:04:02.301877Z",
     "start_time": "2020-10-01T03:04:02.298360Z"
    }
   },
   "outputs": [
    {
     "name": "stdout",
     "output_type": "stream",
     "text": [
      "Area is 10\n",
      "Perimeter is 14\n"
     ]
    }
   ],
   "source": [
    "length = 5\n",
    "breadth = 2\n",
    "area = length * breadth\n",
    "print('Area is', area)\n",
    "print('Perimeter is', 2 * (length + breadth))"
   ]
  },
  {
   "cell_type": "markdown",
   "metadata": {},
   "source": [
    "#### 转义字符串\n",
    "\n",
    "以反斜杠`\\`开头的可表示一些特殊的字符，如\n",
    "- 单引号：`\\'`\n",
    "- 双引号：`\\\"`\n",
    "- 反斜杠自身：`\\\\`\n",
    "- 换行：`\\n`\n",
    "- 制表符：`\\t`\n",
    "- 断行：`\\`，实际字符串不换行，但在引号中输入时换行，以使得输入更加清晰。"
   ]
  },
  {
   "cell_type": "code",
   "execution_count": 5,
   "metadata": {
    "ExecuteTime": {
     "end_time": "2020-10-01T03:04:02.508150Z",
     "start_time": "2020-10-01T03:04:02.504931Z"
    }
   },
   "outputs": [
    {
     "name": "stdout",
     "output_type": "stream",
     "text": [
      "What's your name?\n",
      "\"What's your name?\"\n",
      "This is the first line\n",
      "This is the second line\n",
      "This is the first sentence. This is the second sentence.\n"
     ]
    }
   ],
   "source": [
    "print('What\\'s your name?')\n",
    "print('\\\"What\\'s your name?\\\"')\n",
    "print('This is the first line\\nThis is the second line')\n",
    "print(\"This is the first sentence. \\\n",
    "This is the second sentence.\")"
   ]
  },
  {
   "cell_type": "markdown",
   "metadata": {},
   "source": [
    "#### 原始字符串\n",
    "\n",
    "如果要处理较多的特殊字符（如处理正则表达式时），为了避免大量使用反斜杠，可以使用原始字符串，在字符串前加字母`r`或`R`"
   ]
  },
  {
   "cell_type": "code",
   "execution_count": 6,
   "metadata": {
    "ExecuteTime": {
     "end_time": "2020-10-01T03:04:02.780249Z",
     "start_time": "2020-10-01T03:04:02.776551Z"
    }
   },
   "outputs": [
    {
     "name": "stdout",
     "output_type": "stream",
     "text": [
      "Newlines are indicated by \\n\n"
     ]
    },
    {
     "data": {
      "text/plain": [
       "'Newlines are indicated by \\\\n'"
      ]
     },
     "execution_count": 6,
     "metadata": {},
     "output_type": "execute_result"
    }
   ],
   "source": [
    "print(r\"Newlines are indicated by \\n\")\n",
    "r\"Newlines are indicated by \\n\""
   ]
  },
  {
   "cell_type": "markdown",
   "metadata": {},
   "source": [
    " \n",
    "#### 字符串拼接\n",
    " \n",
    " 直接用加号：\n",
    " "
   ]
  },
  {
   "cell_type": "code",
   "execution_count": 7,
   "metadata": {
    "ExecuteTime": {
     "end_time": "2020-10-01T03:04:03.090604Z",
     "start_time": "2020-10-01T03:04:03.087182Z"
    }
   },
   "outputs": [
    {
     "data": {
      "text/plain": [
       "'Swaroop is 20 years old'"
      ]
     },
     "execution_count": 7,
     "metadata": {},
     "output_type": "execute_result"
    }
   ],
   "source": [
    "age = 20\n",
    "name = 'Swaroop'\n",
    "name + ' is ' + str(age) + ' years old'"
   ]
  },
  {
   "cell_type": "markdown",
   "metadata": {},
   "source": [
    "#### 字符串的其他方法\n",
    "\n",
    "- startwith 方法用于查找字符串是否以给定的字符串内容开头。 \n",
    "- in 运算符用以检查给定的字符串是否是查询的字符串中的一部分。\n",
    "- find 方法用于定位字符串中给定的子字符串的位置。 如果找不到相应的子字符串， find会返回 -1。 \n",
    "- str 类同样还拥有一个简洁的方法用以 联结（ Join） 序列中的项目， 其中字符串将会作为每一项目之间的分隔符， 并以此生成并返回一串更大的字符串。"
   ]
  },
  {
   "cell_type": "code",
   "execution_count": 8,
   "metadata": {
    "ExecuteTime": {
     "end_time": "2020-10-01T03:04:03.347182Z",
     "start_time": "2020-10-01T03:04:03.341175Z"
    }
   },
   "outputs": [
    {
     "name": "stdout",
     "output_type": "stream",
     "text": [
      "Yes, the string starts with \"Swa\"\n",
      "Yes, it contains the string \"a\"\n",
      "Yes, it contains the string \"war\"\n",
      "Brazil_*_Russia_*_India_*_China\n"
     ]
    }
   ],
   "source": [
    "# 这是一个字符串对象\n",
    "name = 'Swaroop'\n",
    "if name.startswith('Swa'):\n",
    "    print('Yes, the string starts with \"Swa\"')\n",
    "    \n",
    "if 'a' in name:\n",
    "    print('Yes, it contains the string \"a\"')\n",
    "    \n",
    "if name.find('war') != -1:\n",
    "    print('Yes, it contains the string \"war\"')\n",
    "    \n",
    "delimiter = '_*_'\n",
    "mylist = ['Brazil', 'Russia', 'India', 'China']\n",
    "print(delimiter.join(mylist))"
   ]
  },
  {
   "cell_type": "markdown",
   "metadata": {},
   "source": [
    "但这样实现是很丑陋的，而且也容易出错。 其次，转换至字符串的工作将由 `format()` 方法自动完成，而不是如这般需要明确转换至字符串。 再次， 当时用 `format()` 方法时，我们可以直接改动文字而不必与变量打交道，反之亦然。\n",
    "\n",
    "\n",
    " #### 字符串的格式化方法\n",
    " \n",
    " ##### 基础用法\n",
    " \n",
    " 用 `format()` 方法："
   ]
  },
  {
   "cell_type": "code",
   "execution_count": 9,
   "metadata": {
    "ExecuteTime": {
     "end_time": "2020-10-01T03:04:03.559101Z",
     "start_time": "2020-10-01T03:04:03.555052Z"
    }
   },
   "outputs": [
    {
     "name": "stdout",
     "output_type": "stream",
     "text": [
      "Swaroop was 20 years old when he wrote this book\n",
      "Why is Swaroop playing with that python?\n",
      "Swaroop was 20 years old when he wrote this book\n",
      "Why is Swaroop playing with that python?\n"
     ]
    }
   ],
   "source": [
    "age = 20\n",
    "name = 'Swaroop'\n",
    "print('{0} was {1} years old when he wrote this book'.format(name, age))\n",
    "print('Why is {0} playing with that python?'.format(name))\n",
    "\n",
    "# 大括号里的数字只是一个可选选项，还可以写成：\n",
    "print('{} was {} years old when he wrote this book'.format(name, age))\n",
    "print('Why is {} playing with that python?'.format(name))"
   ]
  },
  {
   "cell_type": "markdown",
   "metadata": {},
   "source": [
    "##### 更多格式"
   ]
  },
  {
   "cell_type": "code",
   "execution_count": 10,
   "metadata": {
    "ExecuteTime": {
     "end_time": "2020-10-01T03:04:03.770871Z",
     "start_time": "2020-10-01T03:04:03.767271Z"
    }
   },
   "outputs": [
    {
     "name": "stdout",
     "output_type": "stream",
     "text": [
      "0.333\n",
      "___hello___\n",
      "Swaroop wrote A Byte of Python\n"
     ]
    }
   ],
   "source": [
    "# 大括号里的0表示第0个参数，.3f表示浮点数保留3位小数。format括号里的为目标内容\n",
    "# 对于浮点数 '0.333' 保留小数点(.)后三位\n",
    "print('{0:.3f}'.format(1.0/3))\n",
    "# 使用下划线填充文本， 并保持文字处于中间位置\n",
    "# 使用 (^) 定义 '___hello___'字符串长度为 11\n",
    "print('{0:_^11}'.format('hello'))\n",
    "# 基于关键词输出 'Swaroop wrote A Byte of Python'\n",
    "print('{name} wrote {book}'.format(name='Swaroop', book='A Byte of Python'))"
   ]
  },
  {
   "cell_type": "markdown",
   "metadata": {},
   "source": [
    "### 内置常量"
   ]
  },
  {
   "cell_type": "markdown",
   "metadata": {},
   "source": [
    "### 类型转换\n",
    "\n"
   ]
  },
  {
   "cell_type": "code",
   "execution_count": 11,
   "metadata": {
    "ExecuteTime": {
     "end_time": "2020-10-01T03:04:04.196232Z",
     "start_time": "2020-10-01T03:04:04.189606Z"
    }
   },
   "outputs": [
    {
     "data": {
      "text/plain": [
       "float"
      ]
     },
     "execution_count": 11,
     "metadata": {},
     "output_type": "execute_result"
    },
    {
     "data": {
      "text/plain": [
       "3"
      ]
     },
     "execution_count": 11,
     "metadata": {},
     "output_type": "execute_result"
    },
    {
     "data": {
      "text/plain": [
       "True"
      ]
     },
     "execution_count": 11,
     "metadata": {},
     "output_type": "execute_result"
    },
    {
     "data": {
      "text/plain": [
       "False"
      ]
     },
     "execution_count": 11,
     "metadata": {},
     "output_type": "execute_result"
    }
   ],
   "source": [
    "s = '3.14159'\n",
    "fval = float(s)\n",
    "type(fval)\n",
    "int(fval)\n",
    "bool(fval)\n",
    "bool(0)\n"
   ]
  },
  {
   "cell_type": "markdown",
   "metadata": {},
   "source": [
    "### 类（ Class） \n",
    "\n",
    "#### 基本概念\n",
    "\n",
    "一个类也可以带有方法（ Method） ， 也就是说对这个类定义仅对于它启用某个函数。 只有当你拥有一个属于该类的对象时， 你才能使用这些功能。 举个例子， Python 为 list 类提供了一种 append 方法， 能够允许你向列表末尾添加一个项目。 例如 mylist.append('an item')将会向列表 mylist 添加一串字符串。 在这里要注意到我们通过使用点号的方法来访问对象。\n",
    "\n",
    "一个类同样也可以具有字段（ Field） ， 它是只为该类定义且只为该类所用的变量。 只有当你拥有一个属于该类的对象时， 你才能够使用这些变量或名称。 字段同样可以通过点号来访问， 例如 mylist.field 。\n",
    "\n",
    "字段与方法通称类的属性（ Attribute） .\n",
    "\n",
    "字段有两种类型——它们属于某一类的各个实例或对象， 或是从属于某一类本身。 它们被分别称作实例变量（ Instance Variables） 与类变量（ Class Variables）。"
   ]
  },
  {
   "cell_type": "code",
   "execution_count": 12,
   "metadata": {
    "ExecuteTime": {
     "end_time": "2020-10-01T03:04:04.415086Z",
     "start_time": "2020-10-01T03:04:04.408348Z"
    }
   },
   "outputs": [
    {
     "name": "stdout",
     "output_type": "stream",
     "text": [
      "I have 4 items to purchase.\n",
      "These items are: apple mango carrot banana \n",
      "I also have to buy rice.\n",
      "My shopping list is now ['apple', 'mango', 'carrot', 'banana', 'rice']\n",
      "I will sort my list now\n",
      "Sorted shopping list is ['apple', 'banana', 'carrot', 'mango', 'rice']\n",
      "The first item I will buy is apple\n",
      "I bought the apple\n",
      "My shopping list is now ['banana', 'carrot', 'mango', 'rice']\n"
     ]
    }
   ],
   "source": [
    "shoplist = ['apple', 'mango', 'carrot', 'banana']\n",
    "\n",
    "print('I have', len(shoplist), 'items to purchase.')\n",
    "\n",
    "print('These items are:', end=' ')\n",
    "for item in shoplist:\n",
    "    print(item, end=' ')\n",
    "    \n",
    "print('\\nI also have to buy rice.')\n",
    "shoplist.append('rice')\n",
    "print('My shopping list is now', shoplist)\n",
    "\n",
    "print('I will sort my list now')\n",
    "shoplist.sort()\n",
    "print('Sorted shopping list is', shoplist)\n",
    "\n",
    "print('The first item I will buy is', shoplist[0])\n",
    "olditem = shoplist[0]\n",
    "del shoplist[0]  \n",
    "# shoplist被改变，但olditem并未被移除，因为olditem绑定的是shoplist的元素，是字符串'apple'本身，\n",
    "# 而del只是删除shoplist[0]和字符串'apple'的关系\n",
    "print('I bought the', olditem)\n",
    "print('My shopping list is now', shoplist)"
   ]
  },
  {
   "cell_type": "markdown",
   "metadata": {},
   "source": [
    "#### 类的创建\n",
    "\n",
    "我们通过使用 class 语句与这个类的名称来创建一个新类。 在它之后是一个缩进的语句块，\n",
    "代表这个类的主体。 \n",
    "\n",
    "我们通过采用类的名称后跟一对括号的方法， 给这个类创建一个对象"
   ]
  },
  {
   "cell_type": "code",
   "execution_count": 13,
   "metadata": {
    "ExecuteTime": {
     "end_time": "2020-10-01T03:04:04.625713Z",
     "start_time": "2020-10-01T03:04:04.621641Z"
    }
   },
   "outputs": [
    {
     "name": "stdout",
     "output_type": "stream",
     "text": [
      "<__main__.Person object at 0x000002257015B248>\n"
     ]
    }
   ],
   "source": [
    "class Person:\n",
    "    pass # 一个空的代码块\n",
    "\n",
    "p = Person()\n",
    "print(p)"
   ]
  },
  {
   "cell_type": "markdown",
   "metadata": {},
   "source": [
    "#### 方法的创建\n",
    "\n",
    "类方法与普通函数只有一种特定的区别——前者必须有一个额外的名字， 这个名字必须添加到参数列表的开头， 但是你不用在你调用这个功能时为这个参数赋值， Python 会为它提供。这种特定的变量引用的是对象本身， 按照惯例， 它被赋予 self 这一名称。尽管你可以为这一参数赋予任何名称， 但是强烈推荐你使用 self 这一名称——其它的任何一种名称绝对会引人皱眉。 \n",
    "\n",
    "在下面的例子中，say_hi 这一方法不需要参数， 但是依旧在函数定义中拥有 self 变量。"
   ]
  },
  {
   "cell_type": "code",
   "execution_count": 14,
   "metadata": {
    "ExecuteTime": {
     "end_time": "2020-10-01T03:04:04.835904Z",
     "start_time": "2020-10-01T03:04:04.832469Z"
    }
   },
   "outputs": [
    {
     "name": "stdout",
     "output_type": "stream",
     "text": [
      "Hello, how are you?\n"
     ]
    }
   ],
   "source": [
    "class Person:\n",
    "    def say_hi(self):\n",
    "        print('Hello, how are you?')\n",
    "        \n",
    "p = Person()\n",
    "p.say_hi()\n",
    "# 前面两行同样可以写作\n",
    "# Person().say_hi()"
   ]
  },
  {
   "cell_type": "markdown",
   "metadata": {},
   "source": [
    "#### `__init__` 方法\n",
    "\n",
    "`__init__` 方法会在类的对象被实例化（ Instantiated） 时立即运行。 这一方法可以对任何你想进行操作的目标对象进行初始化（ Initialization） 操作。 这里你要注意在 init 前后加上的双下划线。"
   ]
  },
  {
   "cell_type": "code",
   "execution_count": 15,
   "metadata": {
    "ExecuteTime": {
     "end_time": "2020-10-01T03:04:05.100685Z",
     "start_time": "2020-10-01T03:04:05.097071Z"
    }
   },
   "outputs": [
    {
     "name": "stdout",
     "output_type": "stream",
     "text": [
      "Hello, my name is Swaroop\n"
     ]
    }
   ],
   "source": [
    "class Person:\n",
    "    def __init__(self, name):\n",
    "        self.name = name\n",
    "        \n",
    "    def say_hi(self):\n",
    "        print('Hello, my name is', self.name)\n",
    "p = Person('Swaroop')\n",
    "p.say_hi()\n",
    "# 前面两行同时也能写作\n",
    "# Person('Swaroop').say_hi()"
   ]
  },
  {
   "cell_type": "markdown",
   "metadata": {
    "ExecuteTime": {
     "end_time": "2020-05-03T08:16:31.541022Z",
     "start_time": "2020-05-03T08:16:31.535830Z"
    }
   },
   "source": [
    "在本例中， 我们定义 `__init__ `方法用以接受 name 参数（ 与更普遍的 self 一道） 。 在这里， 我们创建了一个字段， 同样称为 name 。 要注意到尽管它们的名字都是“name”， 但这是两个不相同的变量。 虽说如此， 但这并不会造成任何问题， 因为点号 `self.name` 意味着这个叫作“name”的东西是某个叫作“self”的对象的一部分， 而另一个 name 则是一个局部变量。 由于我们已经如上这般明确指出了我们所指的是哪一个名字， 所以它不会引发混乱。\n",
    "\n",
    "当我们在 Person 类下创建新的实例 p 时， 我们采用的方法是先写下类的名称， 后跟括在括号中的参数， 形如： `p = Person('Swaroop')` 。\n",
    "\n",
    "我们不会显式地调用 `__init__` 方法。 这正是这个方法的特殊之处所在。\n",
    "\n",
    "现在， 我们可以使用我们方法中的 `self.name` 字段了， 使用的方法在 `say_hi` 方法中已经作过说明。"
   ]
  },
  {
   "cell_type": "markdown",
   "metadata": {},
   "source": [
    "#### 类变量与对象变量\n",
    "\n",
    "字段——只不过是绑定（ Bound） 到类与对象的命名空间（ Namespace）的普通变量。字段（ Filed） 有两种类型——类变量与对象变量， 它们根据究竟是类还是对象拥有这些变量来进行分类。\n",
    "\n",
    "类变量（ Class Variable） 是共享的（ Shared） ——它们可以被属于该类的所有实例访问。该类变量只拥有一个副本， 当任何一个对象对类变量作出改变时， 发生的变动将在其它所有实例中都会得到体现。\n",
    "\n",
    "对象变量（ Object variable） 由类的每一个独立的对象或实例所拥有。 在这种情况下， 每个对象都拥有属于它自己的字段的副本， 也就是说， 它们不会被共享， 也不会以任何方式与其它不同实例中的相同名称的字段产生关联。 "
   ]
  },
  {
   "cell_type": "code",
   "execution_count": 16,
   "metadata": {
    "ExecuteTime": {
     "end_time": "2020-10-01T03:04:05.553911Z",
     "start_time": "2020-10-01T03:04:05.544934Z"
    }
   },
   "outputs": [
    {
     "name": "stdout",
     "output_type": "stream",
     "text": [
      "(Initializing R2-D2)\n",
      "Greetings, my masters call me R2-D2.\n",
      "We have 1 robots.\n",
      "(Initializing C-3PO)\n",
      "Greetings, my masters call me C-3PO.\n",
      "We have 2 robots.\n",
      "\n",
      "Robots can do some work here.\n",
      "\n",
      "Robots have finished their work. So let's destroy them.\n",
      "R2-D2 is being destroyed!\n",
      "There are still 1 robots working.\n",
      "C-3PO is being destroyed!\n",
      "C-3PO was the last one.\n",
      "We have 0 robots.\n"
     ]
    }
   ],
   "source": [
    "# coding=UTF-8\n",
    "class Robot:\n",
    "    \"\"\"表示有一个带有名字的机器人。 \"\"\"\n",
    "    \n",
    "    # 一个类变量， 用来计数机器人的数量\n",
    "    population = 0\n",
    "    \n",
    "    def __init__(self, name):\n",
    "        \"\"\"初始化数据\"\"\"\n",
    "        self.name = name\n",
    "        print(\"(Initializing {})\".format(self.name))\n",
    "        \n",
    "        # 当有人被创建时， 机器人\n",
    "        # 将会增加人口数量\n",
    "        Robot.population += 1\n",
    "        \n",
    "    def die(self):\n",
    "        \"\"\"我挂了。 \"\"\"\n",
    "        print(\"{} is being destroyed!\".format(self.name))\n",
    "        \n",
    "        Robot.population -= 1\n",
    "        \n",
    "        if Robot.population == 0:\n",
    "            print(\"{} was the last one.\".format(self.name))\n",
    "        else:\n",
    "            print(\"There are still {:d} robots working.\".format(Robot.population))\n",
    "        \n",
    "    def say_hi(self):\n",
    "        \"\"\"来自机器人的诚挚问候\n",
    "        没问题， 你做得到。 \"\"\"\n",
    "        print(\"Greetings, my masters call me {}.\".format(self.name))\n",
    "        \n",
    "    @classmethod\n",
    "    def how_many(cls):\n",
    "        \"\"\"打印出当前的人口数量\"\"\"\n",
    "        print(\"We have {:d} robots.\".format(cls.population))\n",
    "        \n",
    "droid1 = Robot(\"R2-D2\")\n",
    "droid1.say_hi()\n",
    "Robot.how_many()\n",
    "\n",
    "droid2 = Robot(\"C-3PO\")\n",
    "droid2.say_hi()\n",
    "Robot.how_many()\n",
    "\n",
    "print(\"\\nRobots can do some work here.\\n\")\n",
    "\n",
    "print(\"Robots have finished their work. So let's destroy them.\")\n",
    "droid1.die()\n",
    "droid2.die()\n",
    "\n",
    "Robot.how_many()"
   ]
  },
  {
   "cell_type": "markdown",
   "metadata": {},
   "source": [
    "在上面的例子中，population 属于 Robot 类， 因此它是一个类变量。 name 变量属于一个对象（ 通过使用 self 分配） ， 因此它是一个对象变量。我们通过 Robot.population 而非 self.population 引用 population 类变量。 我们对于 name 对象变量采用 self.name 标记法加以称呼， 这是这个对象中所具有的方法。 当一个对象变量与一个类变量名称相同时， 类变量将会被隐藏。除了 Robot.popluation ， 我们还可以使用 `self.__class__.population` ， 因为每个对象都通过`self.__class__` 属性来引用它的类。\n",
    "\n",
    "how_many 实际上是一个属于类而非属于对象的方法。 这就意味着我们可以将它定义为一个classmethod（ 类方法） 或是一个 staticmethod（ 静态方法） ， 这取决于我们是否知道我们需不需要知道我们属于哪个类。 由于我们已经引用了一个类变量， 因此我们使用 classmethod（ 类方法） 。\n",
    "\n",
    "我们使用装饰器（ Decorator） 将 how_many 方法标记为类方法。装饰器等价于调用：\n",
    "\n",
    "`how_many = classmethod(how_many)`\n",
    "\n",
    "所有的类成员都是公开的。 但有一个例外： 如果你使用数据成员并在其名字中使用双下划线作为前缀， 形成诸如 `__privatevar` 这样的形式， Python 会使用名称调整（ Namemangling） 来使其有效地成为一个私有变量。\n",
    "\n",
    "因此， 你需要遵循这样的约定： 任何在类或对象之中使用的变量其命名应以下划线开头， 其它所有非此格式的名称都将是公开的， 并可以为其它任何类或对象所使用。 请记得这只是一个约定， Python 并不强制如此（ 除了双下划线前缀这点） 。"
   ]
  },
  {
   "cell_type": "markdown",
   "metadata": {},
   "source": [
    "#### 继承与子类\n",
    "\n",
    "先看一个例子："
   ]
  },
  {
   "cell_type": "code",
   "execution_count": 17,
   "metadata": {
    "ExecuteTime": {
     "end_time": "2020-10-01T03:04:06.008451Z",
     "start_time": "2020-10-01T03:04:05.999292Z"
    }
   },
   "outputs": [
    {
     "name": "stdout",
     "output_type": "stream",
     "text": [
      "(Initialized SchoolMember: Mrs. Shrividya)\n",
      "(Initialized Teacher: Mrs. Shrividya)\n",
      "(Initialized SchoolMember: Swaroop)\n",
      "(Initialized Student: Swaroop)\n",
      "\n",
      "Name:\"Mrs. Shrividya\" Age:\"40\" Salary: \"30000\"\n",
      "Name:\"Swaroop\" Age:\"25\" Marks: \"75\"\n"
     ]
    }
   ],
   "source": [
    "class SchoolMember:\n",
    "    '''Represents any school member.'''\n",
    "    def __init__(self, name, age):\n",
    "        self.name = name\n",
    "        self.age = age\n",
    "        print('(Initialized SchoolMember: {})'.format(self.name))\n",
    "\n",
    "    def tell(self):\n",
    "        '''Tell my details.'''\n",
    "        print('Name:\"{}\" Age:\"{}\"'.format(self.name, self.age), end=\" \")\n",
    "\n",
    "\n",
    "class Teacher(SchoolMember):\n",
    "    '''Represents a teacher.'''\n",
    "    def __init__(self, name, age, salary):\n",
    "        SchoolMember.__init__(self, name, age)\n",
    "        self.salary = salary\n",
    "        print('(Initialized Teacher: {})'.format(self.name))\n",
    "\n",
    "    def tell(self):\n",
    "        SchoolMember.tell(self)\n",
    "        print('Salary: \"{:d}\"'.format(self.salary))\n",
    "\n",
    "\n",
    "class Student(SchoolMember):\n",
    "    '''Represents a student.'''\n",
    "    def __init__(self, name, age, marks):\n",
    "        SchoolMember.__init__(self, name, age)\n",
    "        self.marks = marks\n",
    "        print('(Initialized Student: {})'.format(self.name))\n",
    "\n",
    "    def tell(self):\n",
    "        SchoolMember.tell(self)\n",
    "        print('Marks: \"{:d}\"'.format(self.marks))\n",
    "\n",
    "t = Teacher('Mrs. Shrividya', 40, 30000)\n",
    "s = Student('Swaroop', 25, 75)\n",
    "\n",
    "# prints a blank line\n",
    "print()\n",
    "\n",
    "members = [t, s]\n",
    "for member in members:\n",
    "    # Works for both Teachers and Students\n",
    "    member.tell()"
   ]
  },
  {
   "cell_type": "code",
   "execution_count": null,
   "metadata": {},
   "outputs": [],
   "source": []
  },
  {
   "cell_type": "code",
   "execution_count": null,
   "metadata": {},
   "outputs": [],
   "source": []
  },
  {
   "cell_type": "code",
   "execution_count": null,
   "metadata": {},
   "outputs": [],
   "source": []
  },
  {
   "cell_type": "markdown",
   "metadata": {},
   "source": [
    "## 标识符命名"
   ]
  },
  {
   "cell_type": "markdown",
   "metadata": {
    "ExecuteTime": {
     "end_time": "2020-04-19T04:26:25.552445Z",
     "start_time": "2020-04-19T04:26:25.548117Z"
    }
   },
   "source": [
    "Python 中，变量只需被赋予某一值。 不需要声明或定义数据类型。变量名也称标识符，标识符命名规则如下：\n",
    "\n",
    "- 标识符名称区分大小写。 例如， myname 和 myName 并不等同。 要注意到前者是小写字母 n 而后者是大写字母 N 。\n",
    "- 只能以大小写字母a~z、A~Z、或下划线（ _ ）开头。\n",
    "- 标识符的其它部分可以由字母、下划线（ _ ）、数字（ 0 ~ 9 ）组成。\n",
    "- 不能与其他保留命名符重复，如`for`"
   ]
  },
  {
   "cell_type": "markdown",
   "metadata": {},
   "source": [
    "## 运算符\n",
    "\n",
    "### 常见运算符\n",
    "\n",
    "表达式可以拆分成运算符（ Operators） 与操作数（ Operands） 。运算符（ Operators） 是进行某些操作， 并且可以用诸如 `+` 等符号或特殊关键词加以表达的功能。 运算符需要一些数据来进行操作， 这些数据就被称作操作数（ Operands） 。 例如`2+3`中 `2` 和 `3` 就是操作数。\n",
    "\n",
    "赋值，只能用等号`=`，可以连续赋值或合并赋值，如："
   ]
  },
  {
   "cell_type": "code",
   "execution_count": 18,
   "metadata": {
    "ExecuteTime": {
     "end_time": "2020-10-01T03:04:06.715632Z",
     "start_time": "2020-10-01T03:04:06.710731Z"
    }
   },
   "outputs": [
    {
     "name": "stdout",
     "output_type": "stream",
     "text": [
      "1\n",
      "2\n",
      "3\n",
      "4\n"
     ]
    }
   ],
   "source": [
    "a=b=c=1\n",
    "print(a)\n",
    "print(b+1)\n",
    "\n",
    "d,e=3,4\n",
    "print(d)\n",
    "print(e)"
   ]
  },
  {
   "cell_type": "markdown",
   "metadata": {},
   "source": [
    "其他常见运算符如下：\n",
    "\n",
    "- 十进制算数运算\n",
    "  + 加：`+`，字符串相加表示拼接，字符串没有相减操作。`'a' + 'b'` 则输出 `'ab'`，但`'ab'-'b'`是非法的。\n",
    "  + 减：`-`，或者负数\n",
    "  + 乘：`*`，字符串乘数字，代表字符串重复指定次数后的结果，如`'la' * 3` 输出 `'lalala' `\n",
    "  + 除：`/`，整数之间相除，可以直接得到浮点数，如`1/3` 结果为`0.3333333333333333`，不必刻意写成`1.0/3`\n",
    "  + 乘方：只能用 `**`，不能用 `^`，因为在Python中 `^` 表示按位异或\n",
    "  + 取模（余数）：`%`，可以在浮点数、负数之间用余数运算，`13 % 3` 输出 `1` 。 `-25.5 % 2.25` 输出 `1.5` 。\n",
    "  + 整除：`//`，x 除以 y 并对结果向下取整至最接近的整数，`13 // 3` 输出 `4` ，`-13 // 3` 输出 `-5`\n",
    "- 转二进制算数运算\n",
    "  + 左移：`<<`，将数字的位向左移动指定的位数，`2 << 2` 输出 `8` 。 `2` 用二进制数表示为 `10` ，向左移 `2` 位会得到 `1000` 这一结果， 表示十进制中的 `8` 。\n",
    "  + 右移：`>>`，将数字的位向左移动指定的位数，`11 >> 1` 输出 `5` 。 `11` 用二进制数表示为 `1011` ，向右移 `1` 位会得到 `101` 这一结果， 表示十进制中的 `5` 。\n",
    "  + 按位与：`&`，对数字进行按位与操作，`5 & 3` 输出 `1`。\n",
    "  + 按位或：`|`，对数字进行按位或操作，`5 | 3` 输出 `7`。\n",
    "  + 按位异或：`^`，对数字进行按位异或操作，`5 ^ 3` 输出 `6`。\n",
    "  + 按位取反：`~`，对数字进行按位取反操作，x 的按位取反结果为 -(x+1)，`~5` 输出 `-6`。有关本例的更多细节可以参阅： http://stackoverflow.com/a/11810203 \n",
    "- 关系运算\n",
    "  + 大于：`>`\n",
    "  + 小于：`<`\n",
    "  + 大于等于：`>=`\n",
    "  + 小于等于：`<=`\n",
    "  + 等于：`==`\n",
    "  + 不等于：`!=`\n",
    "  + 以上关系运算性质：\n",
    "      * 所有的比较运算符返回的结果均为 `True` 或 `False` ，请注意这些名称之中的大写字母。\n",
    "      * 比较可以任意组成链接： `3 < 5 < 7` 返回 `True`。\n",
    "      * 可以比较两个字符串，按字典顺序在前的为小。\n",
    "      * 可以比较其他对象，如元组，某一元素小于，其他元素不大于，则判定为小于\n",
    "      * 数字和字符串不能比较，会报错。\n",
    "  + 成员资格测试（ Membership Tests） 和身份测试（ Identity Tests）     \n",
    "      * in\n",
    "      * not in    \n",
    "      * is\n",
    "      * not is      \n",
    "- 逻辑运算\n",
    "  + 逻辑**与**：`and`，当 `x` 是 `False` 时， `x = False; y = True; x and y` 将返回 `False` 。 在这一情境中，Python 将不会计算 `y`， 因为它已经了解 `and` 表达式的左侧是 `False` ， 这意味着整个表达式都将是 `False` 而不会是别的值。 这种情况被称作短路计算（ Short-circuit Evaluation） \n",
    "  + 逻辑**或**：`or`，在这里短路计算同样适用。\n",
    "  + 逻辑**非**：`not`，`x = Ture; not x` 返回 `False`。 \n",
    "- 其他\n",
    "  + 快捷赋值：`变量 运算 = 表达式` 等价于 `变量 = 变量 运算 表达式`\n",
    "      * `a *= 3` 等价于 `a = a * 3`\n",
    "      * `a += 3` 等价于 `a = a + 3`\n",
    "      * 其余十进制算数运算与转二进制算数运算都可以照此\n",
    "  + 结合律括号、函数括号：`( )`\n",
    "  + 单行代码分隔：`;`\n",
    "  + 索引：`[ ]` \n",
    "  + 创建数列、字典：`:`、`{key: value...}`\n",
    "  + 帮助：`?`\n",
    "  + 转义字符：`\\`"
   ]
  },
  {
   "cell_type": "code",
   "execution_count": 19,
   "metadata": {
    "ExecuteTime": {
     "end_time": "2020-10-01T03:04:06.968620Z",
     "start_time": "2020-10-01T03:04:06.963633Z"
    }
   },
   "outputs": [
    {
     "data": {
      "text/plain": [
       "81"
      ]
     },
     "execution_count": 19,
     "metadata": {},
     "output_type": "execute_result"
    },
    {
     "data": {
      "text/plain": [
       "7"
      ]
     },
     "execution_count": 19,
     "metadata": {},
     "output_type": "execute_result"
    },
    {
     "data": {
      "text/plain": [
       "0.3333333333333333"
      ]
     },
     "execution_count": 19,
     "metadata": {},
     "output_type": "execute_result"
    }
   ],
   "source": [
    "3**4\n",
    "3^4\n",
    "1/3"
   ]
  },
  {
   "cell_type": "code",
   "execution_count": 20,
   "metadata": {
    "ExecuteTime": {
     "end_time": "2020-10-01T03:04:07.052317Z",
     "start_time": "2020-10-01T03:04:06.970189Z"
    }
   },
   "outputs": [
    {
     "data": {
      "text/plain": [
       "True"
      ]
     },
     "execution_count": 20,
     "metadata": {},
     "output_type": "execute_result"
    },
    {
     "data": {
      "text/plain": [
       "True"
      ]
     },
     "execution_count": 20,
     "metadata": {},
     "output_type": "execute_result"
    },
    {
     "data": {
      "text/plain": [
       "True"
      ]
     },
     "execution_count": 20,
     "metadata": {},
     "output_type": "execute_result"
    },
    {
     "data": {
      "text/plain": [
       "True"
      ]
     },
     "execution_count": 20,
     "metadata": {},
     "output_type": "execute_result"
    },
    {
     "data": {
      "text/plain": [
       "True"
      ]
     },
     "execution_count": 20,
     "metadata": {},
     "output_type": "execute_result"
    },
    {
     "data": {
      "text/plain": [
       "True"
      ]
     },
     "execution_count": 20,
     "metadata": {},
     "output_type": "execute_result"
    },
    {
     "data": {
      "text/plain": [
       "True"
      ]
     },
     "execution_count": 20,
     "metadata": {},
     "output_type": "execute_result"
    },
    {
     "data": {
      "text/plain": [
       "False"
      ]
     },
     "execution_count": 20,
     "metadata": {},
     "output_type": "execute_result"
    },
    {
     "data": {
      "text/plain": [
       "False"
      ]
     },
     "execution_count": 20,
     "metadata": {},
     "output_type": "execute_result"
    }
   ],
   "source": [
    "'a'<'b'\n",
    "'2020-02-29'<'2021-02-28'\n",
    "# 2<'3'\n",
    "'str'=='str'\n",
    "'str'!='stR'\n",
    "(3.1-1.1,'so')==(2,'s'+'o')\n",
    "(2,'a')<(3,'b')\n",
    "(2,'a')<(2,'b')\n",
    "(2,'a')<(1,'b')\n",
    "(2,1)<(1,3)"
   ]
  },
  {
   "cell_type": "code",
   "execution_count": 21,
   "metadata": {
    "ExecuteTime": {
     "end_time": "2020-10-01T03:04:07.130089Z",
     "start_time": "2020-10-01T03:04:07.053966Z"
    }
   },
   "outputs": [
    {
     "data": {
      "text/plain": [
       "6"
      ]
     },
     "execution_count": 21,
     "metadata": {},
     "output_type": "execute_result"
    },
    {
     "data": {
      "text/plain": [
       "7"
      ]
     },
     "execution_count": 21,
     "metadata": {},
     "output_type": "execute_result"
    },
    {
     "data": {
      "text/plain": [
       "2.3333333333333335"
      ]
     },
     "execution_count": 21,
     "metadata": {},
     "output_type": "execute_result"
    },
    {
     "data": {
      "text/plain": [
       "0.3333333333333335"
      ]
     },
     "execution_count": 21,
     "metadata": {},
     "output_type": "execute_result"
    },
    {
     "data": {
      "text/plain": [
       "3.0"
      ]
     },
     "execution_count": 21,
     "metadata": {},
     "output_type": "execute_result"
    },
    {
     "data": {
      "text/plain": [
       "9.0"
      ]
     },
     "execution_count": 21,
     "metadata": {},
     "output_type": "execute_result"
    },
    {
     "data": {
      "text/plain": [
       "11"
      ]
     },
     "execution_count": 21,
     "metadata": {},
     "output_type": "execute_result"
    }
   ],
   "source": [
    "a=2\n",
    "a *=  3\n",
    "a\n",
    "a += 1\n",
    "a\n",
    "a /= 3\n",
    "a\n",
    "a %= 2\n",
    "a\n",
    "a //= 0.1\n",
    "a\n",
    "a **=2\n",
    "a\n",
    "a=9\n",
    "a ^= 2\n",
    "a"
   ]
  },
  {
   "cell_type": "markdown",
   "metadata": {},
   "source": [
    "### 运算优先级\n",
    "\n",
    "运算符的优先级按下面的表给出，上面的优先级高于下面，在下表中位列同一行的运算符具有相同优先级，一般从左至右的方式依次进行求值。圆括号可以改变优先级。\n",
    "\n",
    "|运算符|含义|\n",
    "| ---: | :--- |\n",
    "|`(expressions...), [expressions...], {key: value...}, {expressions...}` |显示绑定或数组、 显示列表、 显示字典、 显示设置|\n",
    "|`x[index], x[index:index], x(arguments...), x.attribute` |下标、 切片、 调用、 属性引用|\n",
    "|`**`|乘方|\n",
    "|`+x, -x, ~x`|正、负、按位取反|\n",
    "|`*, /, //, %` |乘、除、整除、取余|\n",
    "|`+, -`|加、减|\n",
    "|`<<, >>`|移动|\n",
    "|`&`|按位与|\n",
    "|`^`|按位异或|\n",
    "|<code>&#124;</code>|按位或|\n",
    "|`in, not in, is, is not,==, !=, <, >, <=, >=`|比较运算符|\n",
    "|`not`|逻辑非|\n",
    "|`and`|逻辑与|\n",
    "|`or` |逻辑或| \n",
    "|`if - else`|条件表达式|\n",
    "|`lambda`|lambda表达式|"
   ]
  },
  {
   "cell_type": "markdown",
   "metadata": {},
   "source": [
    "## 换行\n",
    "\n",
    "### 分号与多逻辑行\n",
    "\n",
    "所谓物理行（Physical Line）是你在编写程序时，你所看到的内容。所谓逻辑行（Logical Line）是 Python 所看到的单个语句。 Python 会假定每一物理行会对应一个逻辑行。一般来说，代码之后无需结束符号。\n",
    "\n",
    "可以用1行代码执行多条语句，每条代码之间用分号 `;` 分隔。但并不推荐这种用法，不推荐在任何地方使用分号。"
   ]
  },
  {
   "cell_type": "code",
   "execution_count": 22,
   "metadata": {
    "ExecuteTime": {
     "end_time": "2020-10-01T03:04:07.439221Z",
     "start_time": "2020-10-01T03:04:07.436095Z"
    }
   },
   "outputs": [
    {
     "name": "stdout",
     "output_type": "stream",
     "text": [
      "5\n",
      "5\n"
     ]
    }
   ],
   "source": [
    "i = 5; print(i);\n",
    "# 等同于\n",
    "i = 5\n",
    "print(i)"
   ]
  },
  {
   "cell_type": "markdown",
   "metadata": {},
   "source": [
    "### 反斜杠与显式行连接\n",
    "\n",
    "当1条语句太长，也可以分在多行，这时可以通过使用反斜杠（`\\`）将其拆分成多个物理行。 这被称作显式行连接（ Explicit Line Joining）。"
   ]
  },
  {
   "cell_type": "code",
   "execution_count": 23,
   "metadata": {
    "ExecuteTime": {
     "end_time": "2020-10-01T03:04:07.665156Z",
     "start_time": "2020-10-01T03:04:07.661876Z"
    }
   },
   "outputs": [
    {
     "data": {
      "text/plain": [
       "'this is a long string without error'"
      ]
     },
     "execution_count": 23,
     "metadata": {},
     "output_type": "execute_result"
    }
   ],
   "source": [
    "i = \\\n",
    "5\n",
    "# 等同于\n",
    "i = 5\n",
    "\n",
    "\"this is a long string \\\n",
    "without error\""
   ]
  },
  {
   "cell_type": "markdown",
   "metadata": {},
   "source": [
    "等同于"
   ]
  },
  {
   "cell_type": "code",
   "execution_count": 24,
   "metadata": {
    "ExecuteTime": {
     "end_time": "2020-10-01T03:04:08.002307Z",
     "start_time": "2020-10-01T03:04:07.999112Z"
    }
   },
   "outputs": [
    {
     "data": {
      "text/plain": [
       "'this is a long string without error'"
      ]
     },
     "execution_count": 24,
     "metadata": {},
     "output_type": "execute_result"
    }
   ],
   "source": [
    "\"this is a long string without error\"\n",
    "\n",
    "# 以下会报错：SyntaxError: EOL while scanning string literal\n",
    "# \"this is a long string \n",
    "# with error\""
   ]
  },
  {
   "cell_type": "markdown",
   "metadata": {},
   "source": [
    "在 R 中，多行字符串也可以直接用单引号或双引号包围，但在 Python 中只能用三引号包围。"
   ]
  },
  {
   "cell_type": "code",
   "execution_count": 25,
   "metadata": {
    "ExecuteTime": {
     "end_time": "2020-10-01T03:04:08.275622Z",
     "start_time": "2020-10-01T03:04:08.272420Z"
    }
   },
   "outputs": [
    {
     "data": {
      "text/plain": [
       "'this is a long string \\n with \\n when break the line'"
      ]
     },
     "execution_count": 25,
     "metadata": {},
     "output_type": "execute_result"
    }
   ],
   "source": [
    "\"\"\"this is a long string \n",
    " with \\n when break the line\"\"\""
   ]
  },
  {
   "cell_type": "markdown",
   "metadata": {
    "ExecuteTime": {
     "end_time": "2020-04-19T08:43:30.372534Z",
     "start_time": "2020-04-19T08:43:30.368768Z"
    }
   },
   "source": [
    "### 括号与隐式行连接\n",
    "\n",
    "在一些特别场景下，也可省略反斜杠实现单逻辑行分布在多物理行中。包括逻辑行以括号开始，它可以是方括号或花括号，但不能是结束括号。可以在前括号或逗号后断行。这被称作隐式行连接（Implicit Line Joining）。注意不能在二元连接符如加号后断开。"
   ]
  },
  {
   "cell_type": "code",
   "execution_count": 26,
   "metadata": {
    "ExecuteTime": {
     "end_time": "2020-10-01T03:42:37.891576Z",
     "start_time": "2020-10-01T03:42:37.888449Z"
    }
   },
   "outputs": [
    {
     "name": "stdout",
     "output_type": "stream",
     "text": [
      "abc abc "
     ]
    }
   ],
   "source": [
    "print(\n",
    "    'abc',\n",
    "    end=' '\n",
    ")\n",
    "#等价于\n",
    "print('abc',end=' ')\n"
   ]
  },
  {
   "cell_type": "markdown",
   "metadata": {},
   "source": [
    "## 代码块与缩进\n",
    "\n",
    "Python使用缩进来确定代码块分组，缩进可以是空格或制表符，错误的缩进可能会导致错误。使用四个空格来缩进。 这是来自 Python 语言官方的建议。 Python 将始终对块使用缩进， 并且绝不会使用大括号。 你可以通过运行 `from__future__ import braces` 来了解更多信息。"
   ]
  },
  {
   "cell_type": "markdown",
   "metadata": {
    "ExecuteTime": {
     "end_time": "2020-04-19T09:23:53.340222Z",
     "start_time": "2020-04-19T09:23:53.336268Z"
    }
   },
   "source": [
    "``` python\n",
    "i = 5\n",
    "# 下面将发生错误， 注意行首有一个空格\n",
    " print('Value is', i)\n",
    "print('I repeat, the value is', i)\n",
    "```"
   ]
  },
  {
   "cell_type": "markdown",
   "metadata": {},
   "source": [
    "## 控制流\n",
    "\n",
    "控制流语句不是函数，其后不需要用括号包围条件，但是条件后需要打冒号，这对 `if`、`while`、`for`、函数中的 `return` 语句都适用。\n",
    "\n",
    "### 条件语句\n",
    "\n",
    "基本结构为 `if..elif..else`，每个条件下都要有冒号引出结果。简单情况下 `elif` 和 `else` 部分都是可省略的，复杂情况下可以进行`if..elif..else`的嵌套。Python 中不存在 `switch` 语句。 你可以通过使用 `if..elif..else` 语句来实现同样的事情（ 在某些情况下，使用一个字典结构能够更快速地完成）。"
   ]
  },
  {
   "cell_type": "code",
   "execution_count": 27,
   "metadata": {
    "ExecuteTime": {
     "end_time": "2020-10-01T03:07:09.345895Z",
     "start_time": "2020-10-01T03:04:09.244939Z"
    }
   },
   "outputs": [
    {
     "name": "stdout",
     "output_type": "stream",
     "text": [
      "Yes, it is true\n",
      "Enter an integer : 23\n",
      "Congratulations, you guessed it.\n",
      "(but you do not win any prizes!)\n",
      "Done\n"
     ]
    }
   ],
   "source": [
    "# 最小规模且有效的 if 语句是这样的，注意冒号和缩进，不用括号：\n",
    "if True:\n",
    "    print('Yes, it is true')\n",
    "\n",
    "# 一个典型结构的条件语句\n",
    "number = 23\n",
    "guess = int(input('Enter an integer : '))\n",
    "\n",
    "if guess == number:\n",
    "    # 新块从这里开始\n",
    "    print('Congratulations, you guessed it.')\n",
    "    print('(but you do not win any prizes!)')\n",
    "    # 新块在这里结束\n",
    "elif guess < number:\n",
    "    # 另一代码块\n",
    "    print('No, it is a little higher than that')\n",
    "    # 你可以在此做任何你希望在该代码块内进行的事情\n",
    "else:\n",
    "    print('No, it is a little lower than that')\n",
    "    # 你必须通过猜测一个大于（ >） 设置数的数字来到达这里。\n",
    "\n",
    "print('Done')\n",
    "# 这最后一句语句将在\n",
    "# if 语句执行完毕后执行。\n"
   ]
  },
  {
   "cell_type": "markdown",
   "metadata": {},
   "source": [
    "#### 条件赋值与3元表达式\n",
    "\n",
    "如下面的例子所示。if、else后无冒号。"
   ]
  },
  {
   "cell_type": "code",
   "execution_count": 28,
   "metadata": {
    "ExecuteTime": {
     "end_time": "2020-10-01T03:07:09.351109Z",
     "start_time": "2020-10-01T03:07:09.347512Z"
    }
   },
   "outputs": [
    {
     "data": {
      "text/plain": [
       "3"
      ]
     },
     "execution_count": 28,
     "metadata": {},
     "output_type": "execute_result"
    }
   ],
   "source": [
    "x=3\n",
    "y=4\n",
    "smaller = x if x<y else y\n",
    "smaller"
   ]
  },
  {
   "cell_type": "markdown",
   "metadata": {},
   "source": [
    "### 循环语句\n",
    "\n",
    "实现循环包括 `while` 、 `for` 语句、列表推导等手段。\n",
    "\n",
    "#### `while`语句\n",
    "\n",
    "基本结构为 `while..else`，每个条件下都要有冒号引出结果。简单情况下 `else` 部分都是可省略的。`break` 语句为跳出整个循环，而 `continue` 语句则是跳出当前循环，进入下一个循环。"
   ]
  },
  {
   "cell_type": "code",
   "execution_count": 29,
   "metadata": {
    "ExecuteTime": {
     "end_time": "2020-10-01T03:08:23.489709Z",
     "start_time": "2020-10-01T03:07:09.352791Z"
    },
    "cell_style": "center"
   },
   "outputs": [
    {
     "name": "stdout",
     "output_type": "stream",
     "text": [
      "Enter an integer : n\n",
      "Error: input must be an integer\n",
      "Enter an integer : q\n",
      "Done\n"
     ]
    }
   ],
   "source": [
    "import random\n",
    "\n",
    "number = random.randint(0, 100)\n",
    "running = True\n",
    "\n",
    "while running:\n",
    "    guess = input('Enter an integer : ')\n",
    "    if guess in ('q','Q','quit','Quit','QUIT'):\n",
    "        break\n",
    "    else:\n",
    "        try:\n",
    "            guess = int(guess)\n",
    "        except ValueError:\n",
    "            print(\"Error: input must be an integer\")\n",
    "        else:\n",
    "            if guess == number:\n",
    "                print('Congratulations, you guessed it.')\n",
    "                chose = input(\"Do you want to guess again? Enter 'Y' for 'yes' or 'N' for 'no'\")\n",
    "                if chose == 'Y' :\n",
    "                    number = random.randint(0, 100)\n",
    "                    continue\n",
    "                elif chose == 'N' :  \n",
    "                    break\n",
    "                else:\n",
    "                    print('Error:wrong input. The program will end.')\n",
    "                # 这将导致 while 循环中止\n",
    "                break\n",
    "            elif guess < number:\n",
    "                print('No, it is a little higher than that.')\n",
    "            else:\n",
    "                print('No, it is a little lower than that.')\n",
    "else:\n",
    "    print('The while loop is over.')\n",
    "    # 在这里你可以做你想做的任何事\n",
    "    \n",
    "print('Done')"
   ]
  },
  {
   "cell_type": "markdown",
   "metadata": {},
   "source": [
    "#### `for`循环\n",
    "\n",
    "`for...in` 语句会遍历序列中的每一个项目。`break` 语句为跳出整个循环，而 `continue` 语句则是跳出当前循环，进入下一个循环。这对`for`循环也适用。注意 `for` 循环后也要有冒号。`for...in` 语句能在任何队列中工作。"
   ]
  },
  {
   "cell_type": "code",
   "execution_count": 30,
   "metadata": {
    "ExecuteTime": {
     "end_time": "2020-10-01T03:08:23.494595Z",
     "start_time": "2020-10-01T03:08:23.491362Z"
    }
   },
   "outputs": [
    {
     "name": "stdout",
     "output_type": "stream",
     "text": [
      "1\n",
      "2\n",
      "3\n",
      "4\n",
      "The for loop is over\n"
     ]
    }
   ],
   "source": [
    "for i in range(1, 5):\n",
    "    print(i)\n",
    "else:\n",
    "    print('The for loop is over')"
   ]
  },
  {
   "cell_type": "markdown",
   "metadata": {},
   "source": [
    "### 列表推导\n",
    "\n",
    "列表推导（ List Comprehension） 用于从一份现有的列表中得到一份新列表。 使用列表推导的优点在于， 当我们使用循环来处理列表中的每个元素并将其存储到新的列表中时时， 它能减少样板（ Boilerplate） 代码的数量。"
   ]
  },
  {
   "cell_type": "code",
   "execution_count": 31,
   "metadata": {
    "ExecuteTime": {
     "end_time": "2020-10-01T03:08:23.560316Z",
     "start_time": "2020-10-01T03:08:23.496049Z"
    }
   },
   "outputs": [
    {
     "name": "stdout",
     "output_type": "stream",
     "text": [
      "[6, 8]\n"
     ]
    }
   ],
   "source": [
    "listone = [2, 3, 4]\n",
    "listtwo = [2*i for i in listone if i > 2]\n",
    "print(listtwo)"
   ]
  },
  {
   "cell_type": "markdown",
   "metadata": {},
   "source": [
    "## 函数\n",
    "\n",
    "### 函数基本定义、默认值与关键字参数\n",
    "\n",
    "函数可以通过关键字 def 来定义。 这一关键字后跟一个函数的标识符名称， 再跟一对圆括号， 其中可以包括一些变量的名称， 再以冒号结尾。随后而来的语句块是函数的一部分。\n",
    "\n",
    "你可以通过在函数定义时附加一个赋值运算符（ = ） 来为参数指定默认参数值。要注意到， 默认参数值应该是常数。 更确切地说， 默认参数值应该是不可变的。只有那些位于参数列表末尾的参数才能被赋予默认参数值， 意即在函数的参数列表中拥有默认参数值的参数不能位于没有默认参数值的参数之前。\n",
    "\n",
    "如果你有一些具有许多参数的函数， 而你又希望只对其中的一些进行指定， 那么你可以通过命名它们来给这些参数赋值——这就是关键字参数（ Keyword Arguments） ——我们使用命名（ 关键字） 而非位置（ 一直以来我们所使用的方式） 来指定函数中的参数。"
   ]
  },
  {
   "cell_type": "code",
   "execution_count": 32,
   "metadata": {
    "ExecuteTime": {
     "end_time": "2020-10-01T03:08:23.619109Z",
     "start_time": "2020-10-01T03:08:23.561838Z"
    }
   },
   "outputs": [
    {
     "data": {
      "text/plain": [
       "8"
      ]
     },
     "execution_count": 32,
     "metadata": {},
     "output_type": "execute_result"
    },
    {
     "data": {
      "text/plain": [
       "8"
      ]
     },
     "execution_count": 32,
     "metadata": {},
     "output_type": "execute_result"
    },
    {
     "data": {
      "text/plain": [
       "9"
      ]
     },
     "execution_count": 32,
     "metadata": {},
     "output_type": "execute_result"
    },
    {
     "data": {
      "text/plain": [
       "4"
      ]
     },
     "execution_count": 32,
     "metadata": {},
     "output_type": "execute_result"
    }
   ],
   "source": [
    "# 系统建议，函数结束后，空两行再开始其他程序\n",
    "# 函数与之前的程序，也需要有两行的间隔\n",
    "# y=2为默认形参的例子\n",
    "def pow(x,y=2):\n",
    "    \n",
    "    \n",
    "    result = x ** y\n",
    "    return result    \n",
    "\n",
    "# 上面的x、y为形参，a、b为实参\n",
    "a = 2\n",
    "b = 3\n",
    "pow(a,b)\n",
    "pow(x=a,y=b)\n",
    "# 关键字参数的例子，用命名指定参数时，就不必按原函数参数的位置来指定了\n",
    "pow(y=a,x=b)\n",
    "# 使用默认实参的例子\n",
    "pow(x=a)"
   ]
  },
  {
   "cell_type": "markdown",
   "metadata": {},
   "source": [
    "### 可变参数\n",
    "\n",
    "有时你可能想定义的函数里面能够有任意数量的变量， 也就是参数数量是可变的， 这可以通过使用星号来实现。\n",
    "\n",
    "当我们声明一个诸如 \\*param 的星号参数时， 从此处开始直到结束的所有**位置参数**（ Positional Arguments） 都将被收集并汇集成一个称为“param”的**元组（ Tuple）** 。\n",
    "\n",
    "\n",
    "类似地， 当我们声明一个诸如 \\*\\*param 的双星号参数时， 从此处开始直至结束的所有**关键字参数**都将被收集并汇集成一个名为 param 的**字典（ Dictionary） **。"
   ]
  },
  {
   "cell_type": "code",
   "execution_count": 33,
   "metadata": {
    "ExecuteTime": {
     "end_time": "2020-10-01T03:08:23.660908Z",
     "start_time": "2020-10-01T03:08:23.620505Z"
    }
   },
   "outputs": [
    {
     "name": "stdout",
     "output_type": "stream",
     "text": [
      "a 10\n",
      "single_item 1\n",
      "single_item 2\n",
      "single_item 3\n",
      "Jack 1123\n",
      "John 2231\n",
      "Inge 1560\n",
      "None\n"
     ]
    },
    {
     "data": {
      "text/plain": [
       "25"
      ]
     },
     "execution_count": 33,
     "metadata": {},
     "output_type": "execute_result"
    },
    {
     "data": {
      "text/plain": [
       "100"
      ]
     },
     "execution_count": 33,
     "metadata": {},
     "output_type": "execute_result"
    }
   ],
   "source": [
    "def total(a=5, *numbers, **phonebook):\n",
    "    print('a', a)\n",
    "    \n",
    "    #遍历元组中的所有项目\n",
    "    for single_item in numbers:\n",
    "        print('single_item', single_item)\n",
    "        \n",
    "    #遍历字典中的所有项目\n",
    "    for first_part, second_part in phonebook.items():  # 对字典类型数据的常用方法\n",
    "        print(first_part,second_part)\n",
    "    \n",
    "    \n",
    "print(total(10,1,2,3,Jack=1123,John=2231,Inge=1560))\n",
    "\n",
    "\n",
    "def powersum(power, *args):\n",
    "    \"\"\"Return the sum of each argument raised to the specified power.\"\"\"\n",
    "    \n",
    "    total = 0\n",
    "    for i in args:\n",
    "        total += pow(i, power)\n",
    "    return total\n",
    "\n",
    "powersum(2, 3, 4)\n",
    "powersum(2, 10)"
   ]
  },
  {
   "cell_type": "markdown",
   "metadata": {},
   "source": [
    "### `return` 语句\n",
    "\n",
    "`return` 语句用于从函数中返回， 也就是中断函数。 我们也可以选择在中断函数时从函数中返回一个值。\n",
    "\n",
    "`return` 语句返回的变量无须用括号括起来，可以返回（由多个值组成的）元组，则元组本身被圆括号包围。\n",
    "\n",
    "函数中如果省略 `return` 语句，则意味着 `return None`，而非返回函数中最后的结果。\n",
    "\n",
    "可以仅写一个 `return`，也代表 `return None`。Python 中的 `pass` 语句用于指示一个没有内容的语句块。"
   ]
  },
  {
   "cell_type": "code",
   "execution_count": 34,
   "metadata": {
    "ExecuteTime": {
     "end_time": "2020-10-01T03:08:23.750140Z",
     "start_time": "2020-10-01T03:08:23.710878Z"
    }
   },
   "outputs": [
    {
     "name": "stdout",
     "output_type": "stream",
     "text": [
      "3\n"
     ]
    },
    {
     "data": {
      "text/plain": [
       "2"
      ]
     },
     "execution_count": 34,
     "metadata": {},
     "output_type": "execute_result"
    },
    {
     "data": {
      "text/plain": [
       "'details'"
      ]
     },
     "execution_count": 34,
     "metadata": {},
     "output_type": "execute_result"
    }
   ],
   "source": [
    "def maximum(x, y):\n",
    "    if x > y:\n",
    "        return x\n",
    "    elif x == y:\n",
    "        return 'The numbers are equal'\n",
    "    else:\n",
    "        return y\n",
    "    \n",
    "print(maximum(2, 3))\n",
    "\n",
    "\n",
    "def get_error_details():\n",
    "    return (2, 'details') # 返回（由多个值组成的）元组\n",
    "\n",
    "errnum, errstr = get_error_details() # 元组的括号可以省略\n",
    "errnum\n",
    "errstr"
   ]
  },
  {
   "cell_type": "markdown",
   "metadata": {},
   "source": [
    "### Lambda 函数（匿名函数）\n",
    "\n",
    "很多函数以函数为输入参数，这时写一段正式的函数显得冗长，匿名函数使得这种场景非常简洁\n",
    "\n",
    "```python\n",
    "equiv_anon = lambda x: x * 2\n",
    "```\n",
    "\n",
    "等价于\n",
    "\n",
    "```python\n",
    "def short_function(x):\n",
    "    return x * 2\n",
    "```"
   ]
  },
  {
   "cell_type": "code",
   "execution_count": 35,
   "metadata": {
    "ExecuteTime": {
     "end_time": "2020-10-01T03:08:23.786491Z",
     "start_time": "2020-10-01T03:08:23.751831Z"
    }
   },
   "outputs": [
    {
     "data": {
      "text/plain": [
       "[8, 0, 2, 10, 12]"
      ]
     },
     "execution_count": 35,
     "metadata": {},
     "output_type": "execute_result"
    }
   ],
   "source": [
    "def apply_to_list(some_list, f):\n",
    "    return [f(x) for x in some_list]\n",
    "\n",
    "ints = [4, 0, 1, 5, 6]\n",
    "apply_to_list(ints, lambda x: x * 2)"
   ]
  },
  {
   "cell_type": "markdown",
   "metadata": {},
   "source": [
    "假设有一组字符串，你想要根据各字符串**不同**字母的数量对其进行排序"
   ]
  },
  {
   "cell_type": "code",
   "execution_count": 36,
   "metadata": {
    "ExecuteTime": {
     "end_time": "2020-10-01T03:08:23.835177Z",
     "start_time": "2020-10-01T03:08:23.787837Z"
    }
   },
   "outputs": [
    {
     "data": {
      "text/plain": [
       "['aaaa', 'foo', 'abab', 'bar', 'card']"
      ]
     },
     "execution_count": 36,
     "metadata": {},
     "output_type": "execute_result"
    }
   ],
   "source": [
    "strings = ['foo', 'card', 'bar', 'aaaa', 'abab']\n",
    "strings.sort(key=lambda x: len(set(list(x)))) # sort方法中，key参数需要输入一个函数\n",
    "strings"
   ]
  },
  {
   "cell_type": "code",
   "execution_count": 37,
   "metadata": {
    "ExecuteTime": {
     "end_time": "2020-10-01T04:04:09.121263Z",
     "start_time": "2020-10-01T04:04:09.118256Z"
    }
   },
   "outputs": [
    {
     "name": "stdout",
     "output_type": "stream",
     "text": [
      "Help on built-in function sort:\n",
      "\n",
      "sort(*, key=None, reverse=False) method of builtins.list instance\n",
      "    Stable sort *IN PLACE*.\n",
      "\n"
     ]
    }
   ],
   "source": [
    "help(strings.sort)"
   ]
  },
  {
   "cell_type": "markdown",
   "metadata": {},
   "source": [
    "### 函数文档字符串（DocStrings）\n",
    "\n",
    "函数的第一行逻辑行中的字符串是该函数的 文档字符串（ DocString） 。 这里要注意文档字符串也适用于后面相关章节将提到的模块（ Modules） 与类（ Class） 。\n",
    "\n",
    "该文档字符串所约定的是一串多行字符串（在python3中用三双引号，而不是三单引号将其括起来）， 其中第一行以某一大写字母开始， 以句号结束。第二行为空行， 后跟的第三行开始是任何详细的解释说明。 在此强烈建议你在你所有重要功能的所有文档字符串中都遵循这一约定。\n",
    "\n",
    "我们可以通过使用函数的 `__doc__` （ 注意其中的双下划线） 属性（ 属于函数的名称） 来获取函数的文档字符串属性。`help()` 函数获取函数的 `__doc__` 属性并以一种整洁的方式将其呈现给你。要记住你可以通过按下 `q` 键来退出 `help` 。"
   ]
  },
  {
   "cell_type": "code",
   "execution_count": 38,
   "metadata": {
    "ExecuteTime": {
     "end_time": "2020-10-01T03:08:23.875050Z",
     "start_time": "2020-10-01T03:08:23.836584Z"
    }
   },
   "outputs": [
    {
     "name": "stdout",
     "output_type": "stream",
     "text": [
      "5 is maximum\n",
      "Prints the maximum of two numbers.打印两个数值中的最大数。\n",
      "    \n",
      "    The two values must be integers.这两个数都应该是整数\n",
      "Help on function print_max in module __main__:\n",
      "\n",
      "print_max(x, y)\n",
      "    Prints the maximum of two numbers.打印两个数值中的最大数。\n",
      "    \n",
      "    The two values must be integers.这两个数都应该是整数\n",
      "\n"
     ]
    }
   ],
   "source": [
    "def print_max(x, y):\n",
    "    \"\"\"Prints the maximum of two numbers.打印两个数值中的最大数。\n",
    "    \n",
    "    The two values must be integers.这两个数都应该是整数\"\"\"\n",
    "    # 如果可能， 将其转换至整数类型\n",
    "    x = int(x)\n",
    "    y = int(y)\n",
    "    \n",
    "    if x > y:\n",
    "        print(x, 'is maximum')\n",
    "    else:\n",
    "        print(y, 'is maximum')\n",
    "\n",
    "print_max(3, 5)\n",
    "print(print_max.__doc__)\n",
    "help(print_max)"
   ]
  },
  {
   "cell_type": "markdown",
   "metadata": {},
   "source": [
    "### 局部变量与全局变量\n",
    "\n",
    "当你在一个函数的定义中声明变量时， 它们不会以任何方式与身处函数之外但具有相同名称的变量产生关系， 也就是说， 这些变量名只存在于函数这一局部（ Local） 。 当在函数中使用global 语句声明时，变量将是全局有效的。你可以在同一句 global 语句中指定不止一个的全局变量， 例如 global x, y, z 。"
   ]
  },
  {
   "cell_type": "code",
   "execution_count": 39,
   "metadata": {
    "ExecuteTime": {
     "end_time": "2020-10-01T03:08:23.942347Z",
     "start_time": "2020-10-01T03:08:23.876622Z"
    }
   },
   "outputs": [
    {
     "name": "stdout",
     "output_type": "stream",
     "text": [
      "x is 50\n",
      "Changed local x to 2\n",
      "x is still 50\n",
      "x is 50\n",
      "Changed global x to 2\n",
      "Value of x is 2\n"
     ]
    }
   ],
   "source": [
    "x = 50\n",
    "\n",
    "\n",
    "def func(x):\n",
    "    print('x is', x)\n",
    "    x = 2\n",
    "    print('Changed local x to', x)\n",
    "    \n",
    "func(x)\n",
    "print('x is still', x)\n",
    "\n",
    "\n",
    "x = 50\n",
    "\n",
    "\n",
    "def func():\n",
    "    global x\n",
    "    print('x is', x)\n",
    "    x = 2\n",
    "    print('Changed global x to', x)\n",
    "    \n",
    "func()\n",
    "print('Value of x is', x)"
   ]
  },
  {
   "cell_type": "markdown",
   "metadata": {},
   "source": [
    "### 作为对象的函数与函数复用\n",
    "\n",
    "函数也是对象，可以作为其他函数的参数。想要将一个函数用于一个序列的多个元素，可以用map函数，但需要用list函数来实例化。"
   ]
  },
  {
   "cell_type": "code",
   "execution_count": 40,
   "metadata": {
    "ExecuteTime": {
     "end_time": "2020-10-01T03:08:23.992553Z",
     "start_time": "2020-10-01T03:08:23.943707Z"
    }
   },
   "outputs": [
    {
     "data": {
      "text/plain": [
       "6"
      ]
     },
     "execution_count": 40,
     "metadata": {},
     "output_type": "execute_result"
    },
    {
     "data": {
      "text/plain": [
       "<map at 0x225701985c8>"
      ]
     },
     "execution_count": 40,
     "metadata": {},
     "output_type": "execute_result"
    },
    {
     "data": {
      "text/plain": [
       "[1, 2, 3, 3, 4, 6]"
      ]
     },
     "execution_count": 40,
     "metadata": {},
     "output_type": "execute_result"
    }
   ],
   "source": [
    "s = ['a', 'as', 'bat', 'car', 'dove', 'python']\n",
    "len(s)  # 列表本身的长度\n",
    "m = map(len,s) # map对象\n",
    "m\n",
    "list(m) # 实例化，每个元素字符串的长度"
   ]
  },
  {
   "cell_type": "markdown",
   "metadata": {},
   "source": [
    "## 模块（ Modules）\n",
    "\n",
    "如果你想在你所编写的**别的程序**中重用一些函数的话，你需要用到模块。一个模块可以被其它程序导入并运用其功能。\n",
    "\n",
    "编写模块有很多种方法， 其中最简单的一种便是创建一个包含函数与变量、 以 .py 为后缀的文件。另一种方法是使用撰写 Python 解释器本身的本地语言来编写模块。 举例来说， 你可以使用 C语言来撰写 Python 模块， 并且在编译后， 你可以通过标准 Python 解释器在你的 Python 代码中使用它们。\n",
    "\n",
    "### 模块的导入\n",
    "\n",
    "我们通过 import 语句导入模块。如果是一个内置模块， Python 知道应该在哪里找到它。如果它不是一个已编译好的模块， 即用 Python 编写的模块， 那么 Python 解释器将从它的sys.path 变量所提供的目录中进行搜索。 初始化工作只需在我们第一次导入模块时完成。\n",
    "\n",
    "如果你希望直接将 argv 变量导入你的程序（ 为了避免每次都要输入 sys. ） ， 那么你可以通过使用 from sys import argv 语句来实现这一点。一般来说， 你应该尽量避免使用 from...import 语句， 而去使用 import 语句。这是为了避免在你的程序中出现名称冲突， 同时也为了使程序更加易读。\n",
    "\n"
   ]
  },
  {
   "cell_type": "markdown",
   "metadata": {},
   "source": [
    "以下代码保存为 module_using_sys.py，且放在导入该模块的同一目录下。\n",
    "\n",
    "```python\n",
    "import sys\n",
    "\n",
    "print('The command line arguments are:')\n",
    "for i in sys.argv:\n",
    "    print(i)\n",
    "    \n",
    "print('\\n\\nThe PYTHONPATH is', sys.path, '\\n')\n",
    "```"
   ]
  },
  {
   "cell_type": "code",
   "execution_count": 41,
   "metadata": {
    "ExecuteTime": {
     "end_time": "2020-10-01T03:08:24.525155Z",
     "start_time": "2020-10-01T03:08:23.993931Z"
    }
   },
   "outputs": [
    {
     "name": "stdout",
     "output_type": "stream",
     "text": [
      "The command line arguments are:\n",
      "module_using_sys.py\n",
      "we\n",
      "are\n",
      "arguments\n",
      "\n",
      "\n",
      "The PYTHONPATH is ['C:\\\\Users\\\\guoxiao133\\\\00_Jupyter_Notebook\\\\Python_learning', 'D:\\\\ProgramData\\\\Anaconda3\\\\python37.zip', 'D:\\\\ProgramData\\\\Anaconda3\\\\DLLs', 'D:\\\\ProgramData\\\\Anaconda3\\\\lib', 'D:\\\\ProgramData\\\\Anaconda3', 'D:\\\\ProgramData\\\\Anaconda3\\\\lib\\\\site-packages', 'D:\\\\ProgramData\\\\Anaconda3\\\\lib\\\\site-packages\\\\win32', 'D:\\\\ProgramData\\\\Anaconda3\\\\lib\\\\site-packages\\\\win32\\\\lib', 'D:\\\\ProgramData\\\\Anaconda3\\\\lib\\\\site-packages\\\\Pythonwin'] \n",
      "\n"
     ]
    }
   ],
   "source": [
    "# 命令行中导入模块\n",
    "! python module_using_sys.py we are arguments"
   ]
  },
  {
   "cell_type": "code",
   "execution_count": 42,
   "metadata": {
    "ExecuteTime": {
     "end_time": "2020-10-01T03:08:24.554335Z",
     "start_time": "2020-10-01T03:08:24.526925Z"
    }
   },
   "outputs": [
    {
     "name": "stdout",
     "output_type": "stream",
     "text": [
      "Square root of 16 is 4.0\n"
     ]
    }
   ],
   "source": [
    "# 程序中导入模块的3中方式\n",
    "import sys\n",
    "\n",
    "from math import sqrt\n",
    "print(\"Square root of 16 is\", sqrt(16))\n",
    "\n",
    "from mymodule import *"
   ]
  },
  {
   "cell_type": "markdown",
   "metadata": {},
   "source": [
    "### 模块的 `__name__`\n",
    "\n",
    "每个模块都有一个名称， 而模块中的语句可以找到它们所处的模块的名称。 这对于确定模块是独立运行的还是被导入进来运行的这一特定目的来说大为有用。 正如先前所提到的， 当模块第一次被导入时， 它所包含的代码将被执行。 我们可以通过这一特性来使模块以不同的方式运行， 这取决于它是为自己所用还是从其它从的模块中导入而来。 这可以通过使用模块的 `__name__` 属性来实现。"
   ]
  },
  {
   "cell_type": "markdown",
   "metadata": {},
   "source": [
    "以下代码保存为 module_using_name.py，且放在导入该模块的同一目录下。\n",
    "\n",
    "```python\n",
    "if __name__ == '__main__':\n",
    "    print('This program is being run by itself')\n",
    "else:\n",
    "    print('I am being imported from another module')\n",
    "```"
   ]
  },
  {
   "cell_type": "code",
   "execution_count": 43,
   "metadata": {
    "ExecuteTime": {
     "end_time": "2020-10-01T03:08:24.721348Z",
     "start_time": "2020-10-01T03:08:24.555828Z"
    }
   },
   "outputs": [
    {
     "name": "stdout",
     "output_type": "stream",
     "text": [
      "This program is being run by itself\n",
      "I am being imported from another module\n"
     ]
    }
   ],
   "source": [
    "! python module_using_name.py\n",
    "\n",
    "import module_using_name"
   ]
  },
  {
   "cell_type": "markdown",
   "metadata": {},
   "source": [
    "### 编写你自己的模块\n",
    "\n",
    "我们一般所使用的 Python 的程序相比其实并没有什么特殊的区别。它可以是函数，也可以包含任意其他对象。你只需要保证它以 .py 为扩展名即可（后缀如果有空格会无法找到该模块）。要记住该模块应该放置于与其它我们即将导入这一模块的程序相同的目录下， 或者是放置在sys.path 所列出的其中一个目录下。\n",
    "\n",
    "`import *` 模式会导入诸如 `say_hi` 等所有公共名称， 但不会导入 `__version__` 名称， 因为后者以双下划线开头。你应该避免使用 import-star 这种形式， 即 `from mymodule import *` 。"
   ]
  },
  {
   "cell_type": "markdown",
   "metadata": {},
   "source": [
    "以下代码保存为 mymodule.py，且放在导入该模块的同一目录下。\n",
    "\n",
    "```python\n",
    "def say_hi():\n",
    "    print('Hi, this is mymodule speaking.')\n",
    "    \n",
    "__version__ = '0.1'\n",
    "```"
   ]
  },
  {
   "cell_type": "code",
   "execution_count": 44,
   "metadata": {
    "ExecuteTime": {
     "end_time": "2020-10-01T03:08:24.726844Z",
     "start_time": "2020-10-01T03:08:24.723002Z"
    }
   },
   "outputs": [
    {
     "name": "stdout",
     "output_type": "stream",
     "text": [
      "Hi, this is mymodule speaking.\n",
      "Version 0.1\n",
      "Hi, this is mymodule speaking.\n",
      "Version 0.1\n"
     ]
    }
   ],
   "source": [
    "import mymodule\n",
    "mymodule.say_hi()\n",
    "print('Version', mymodule.__version__)\n",
    "\n",
    "from mymodule import say_hi, __version__\n",
    "say_hi()\n",
    "print('Version', __version__)\n",
    "\n",
    "from mymodule import *"
   ]
  },
  {
   "cell_type": "markdown",
   "metadata": {},
   "source": [
    "### `dir` 函数\n",
    "\n",
    "内置的 dir() 函数能够返回由对象所定义的名称列表（相当于包含哪些子对象）。 如果这一对象是一个模块， 则该列表会包括函数内所定义的函数、 类与变量。\n",
    "\n",
    "该函数接受参数。 如果参数是模块名称， 函数将返回这一指定模块的名称列表。 ~~如果没有提供参数， 函数将返回当前模块的名称列表（似乎并不是这样，最好带上参数）。~~"
   ]
  },
  {
   "cell_type": "code",
   "execution_count": 45,
   "metadata": {
    "ExecuteTime": {
     "end_time": "2020-10-01T03:08:24.775366Z",
     "start_time": "2020-10-01T03:08:24.728290Z"
    }
   },
   "outputs": [
    {
     "data": {
      "text/plain": [
       "['In',\n",
       " 'InteractiveShell',\n",
       " 'Out',\n",
       " 'Person',\n",
       " 'Robot',\n",
       " 'SchoolMember',\n",
       " 'Student',\n",
       " 'Teacher',\n",
       " '_',\n",
       " '_11',\n",
       " '_19',\n",
       " '_2',\n",
       " '_20',\n",
       " '_21',\n",
       " '_23',\n",
       " '_24',\n",
       " '_25',\n",
       " '_28',\n",
       " '_3',\n",
       " '_32',\n",
       " '_33',\n",
       " '_34',\n",
       " '_35',\n",
       " '_36',\n",
       " '_40',\n",
       " '_6',\n",
       " '_7',\n",
       " '__',\n",
       " '___',\n",
       " '__builtin__',\n",
       " '__builtins__',\n",
       " '__doc__',\n",
       " '__loader__',\n",
       " '__name__',\n",
       " '__package__',\n",
       " '__spec__',\n",
       " '__version__',\n",
       " '_dh',\n",
       " '_exit_code',\n",
       " '_i',\n",
       " '_i1',\n",
       " '_i10',\n",
       " '_i11',\n",
       " '_i12',\n",
       " '_i13',\n",
       " '_i14',\n",
       " '_i15',\n",
       " '_i16',\n",
       " '_i17',\n",
       " '_i18',\n",
       " '_i19',\n",
       " '_i2',\n",
       " '_i20',\n",
       " '_i21',\n",
       " '_i22',\n",
       " '_i23',\n",
       " '_i24',\n",
       " '_i25',\n",
       " '_i26',\n",
       " '_i27',\n",
       " '_i28',\n",
       " '_i29',\n",
       " '_i3',\n",
       " '_i30',\n",
       " '_i31',\n",
       " '_i32',\n",
       " '_i33',\n",
       " '_i34',\n",
       " '_i35',\n",
       " '_i36',\n",
       " '_i37',\n",
       " '_i38',\n",
       " '_i39',\n",
       " '_i4',\n",
       " '_i40',\n",
       " '_i41',\n",
       " '_i42',\n",
       " '_i43',\n",
       " '_i44',\n",
       " '_i45',\n",
       " '_i5',\n",
       " '_i6',\n",
       " '_i7',\n",
       " '_i8',\n",
       " '_i9',\n",
       " '_ih',\n",
       " '_ii',\n",
       " '_iii',\n",
       " '_oh',\n",
       " 'a',\n",
       " 'age',\n",
       " 'apply_to_list',\n",
       " 'area',\n",
       " 'b',\n",
       " 'breadth',\n",
       " 'c',\n",
       " 'd',\n",
       " 'delimiter',\n",
       " 'droid1',\n",
       " 'droid2',\n",
       " 'e',\n",
       " 'errnum',\n",
       " 'errstr',\n",
       " 'exit',\n",
       " 'func',\n",
       " 'fval',\n",
       " 'get_error_details',\n",
       " 'get_ipython',\n",
       " 'guess',\n",
       " 'i',\n",
       " 'ints',\n",
       " 'item',\n",
       " 'length',\n",
       " 'listone',\n",
       " 'listtwo',\n",
       " 'm',\n",
       " 'maximum',\n",
       " 'member',\n",
       " 'members',\n",
       " 'module_using_name',\n",
       " 'mylist',\n",
       " 'mymodule',\n",
       " 'name',\n",
       " 'number',\n",
       " 'olditem',\n",
       " 'p',\n",
       " 'pow',\n",
       " 'powersum',\n",
       " 'print_max',\n",
       " 'quit',\n",
       " 'random',\n",
       " 'running',\n",
       " 's',\n",
       " 'say_hi',\n",
       " 'shoplist',\n",
       " 'smaller',\n",
       " 'sqrt',\n",
       " 'strings',\n",
       " 'sys',\n",
       " 't',\n",
       " 'total',\n",
       " 'x',\n",
       " 'y']"
      ]
     },
     "execution_count": 45,
     "metadata": {},
     "output_type": "execute_result"
    }
   ],
   "source": [
    "# import sys\n",
    "# dir(sys)\n",
    "# dir()\n",
    "a = 5\n",
    "dir()\n",
    "# del a\n",
    "# dir()"
   ]
  },
  {
   "cell_type": "code",
   "execution_count": 46,
   "metadata": {
    "ExecuteTime": {
     "end_time": "2020-10-01T03:08:24.820781Z",
     "start_time": "2020-10-01T03:08:24.776712Z"
    }
   },
   "outputs": [
    {
     "data": {
      "text/plain": [
       "['__abs__',\n",
       " '__add__',\n",
       " '__and__',\n",
       " '__bool__',\n",
       " '__ceil__',\n",
       " '__class__',\n",
       " '__delattr__',\n",
       " '__dir__',\n",
       " '__divmod__',\n",
       " '__doc__',\n",
       " '__eq__',\n",
       " '__float__',\n",
       " '__floor__',\n",
       " '__floordiv__',\n",
       " '__format__',\n",
       " '__ge__',\n",
       " '__getattribute__',\n",
       " '__getnewargs__',\n",
       " '__gt__',\n",
       " '__hash__',\n",
       " '__index__',\n",
       " '__init__',\n",
       " '__init_subclass__',\n",
       " '__int__',\n",
       " '__invert__',\n",
       " '__le__',\n",
       " '__lshift__',\n",
       " '__lt__',\n",
       " '__mod__',\n",
       " '__mul__',\n",
       " '__ne__',\n",
       " '__neg__',\n",
       " '__new__',\n",
       " '__or__',\n",
       " '__pos__',\n",
       " '__pow__',\n",
       " '__radd__',\n",
       " '__rand__',\n",
       " '__rdivmod__',\n",
       " '__reduce__',\n",
       " '__reduce_ex__',\n",
       " '__repr__',\n",
       " '__rfloordiv__',\n",
       " '__rlshift__',\n",
       " '__rmod__',\n",
       " '__rmul__',\n",
       " '__ror__',\n",
       " '__round__',\n",
       " '__rpow__',\n",
       " '__rrshift__',\n",
       " '__rshift__',\n",
       " '__rsub__',\n",
       " '__rtruediv__',\n",
       " '__rxor__',\n",
       " '__setattr__',\n",
       " '__sizeof__',\n",
       " '__str__',\n",
       " '__sub__',\n",
       " '__subclasshook__',\n",
       " '__truediv__',\n",
       " '__trunc__',\n",
       " '__xor__',\n",
       " 'bit_length',\n",
       " 'conjugate',\n",
       " 'denominator',\n",
       " 'from_bytes',\n",
       " 'imag',\n",
       " 'numerator',\n",
       " 'real',\n",
       " 'to_bytes']"
      ]
     },
     "execution_count": 46,
     "metadata": {},
     "output_type": "execute_result"
    }
   ],
   "source": [
    "dir(a)"
   ]
  },
  {
   "cell_type": "markdown",
   "metadata": {},
   "source": [
    "## 包（Packages）\n",
    "\n",
    "包是用以组织模块的另一种层次结构。包需要被组织为一个包含模块与一个特殊的 `__init__.py` 文件的文件夹， 后者向 Python 表明这一文件夹是特别的， 因为其包含了 Python 模块。下面是一个包的文件夹的结构。\n",
    "\n",
    "```\n",
    "- <some folder present in the sys.path>/\n",
    "    - world/\n",
    "        - __init__.py\n",
    "        - asia/\n",
    "            - __init__.py\n",
    "            - india/\n",
    "                - __init__.py\n",
    "                - foo.py\n",
    "        - africa/\n",
    "            - __init__.py\n",
    "            - madagascar/\n",
    "                - __init__.py\n",
    "                - bar.py\n",
    "```\n",
    "\n",
    "可以在 https://pypi.org/ 中搜索Python包，用pip安装包。"
   ]
  },
  {
   "cell_type": "markdown",
   "metadata": {},
   "source": [
    "## 常用函数\n",
    "\n",
    "常用数学函数、统计函数、概率函数见NumPy包，在数据结构一章中讲述。其他常用函数有：\n",
    "\n",
    "## 管理工作空间\n",
    "\n",
    "## 获取帮助\n",
    "\n",
    "## 调试\n",
    "\n",
    "简单调试参考 https://blog.csdn.net/dlhlSC/article/details/84309410 \n",
    "\n",
    "Jupyter Notebook 可视化调试参考 https://medium.com/codait/the-visual-python-debugger-for-jupyter-notebooks-youve-always-wanted-761713babc62\n",
    "\n",
    "Jupyter Lab 可视化调试参考 https://juejin.im/entry/5e815737518825737e0f69a2\n"
   ]
  },
  {
   "cell_type": "markdown",
   "metadata": {},
   "source": [
    "## 异常处理\n",
    "\n",
    "参考 https://bop.mol.uno/16.exceptions.html ，待整理。包括更多中的assert 语句、装饰器。"
   ]
  },
  {
   "cell_type": "markdown",
   "metadata": {
    "ExecuteTime": {
     "end_time": "2020-04-19T01:54:11.410203Z",
     "start_time": "2020-04-19T01:54:11.402887Z"
    }
   },
   "source": [
    "## 输入与输出\n",
    "\n",
    "### 字符串\n",
    "\n",
    "对字符串而言，输入和输出可以分别用input() 函数与 print 函数。\n",
    "\n",
    "### 文本文件\n",
    "\n",
    "对文件来说，你可以通过创建一个属于 file 类的对象并适当使用它的 read、readline、write 方法来打开或使用文件，并对它们进行读取或写入。读取或写入文件的能力取决于你指定以何种方式打开文件。最后，当你完成了文件，你可以调用 close 方法来告诉 Python 我们已经完成了对该文件的使用。"
   ]
  },
  {
   "cell_type": "code",
   "execution_count": 47,
   "metadata": {
    "ExecuteTime": {
     "end_time": "2020-10-01T03:08:24.872463Z",
     "start_time": "2020-10-01T03:08:24.822206Z"
    }
   },
   "outputs": [
    {
     "data": {
      "text/plain": [
       "95"
      ]
     },
     "execution_count": 47,
     "metadata": {},
     "output_type": "execute_result"
    },
    {
     "name": "stdout",
     "output_type": "stream",
     "text": [
      "Programming is fun\n",
      "When the work is done\n",
      "if you wanna make your work also fun:\n",
      "    use Python!\n"
     ]
    }
   ],
   "source": [
    "poem = '''\\\n",
    "Programming is fun\n",
    "When the work is done\n",
    "if you wanna make your work also fun:\n",
    "    use Python!\n",
    "'''\n",
    "\n",
    "# 打开文件以编辑（'w'riting）\n",
    "f = open('poem.txt', 'w')\n",
    "# 向文件中编写文本\n",
    "f.write(poem)\n",
    "# 关闭文件\n",
    "f.close()\n",
    "\n",
    "# 如果没有特别指定，\n",
    "# 将假定启用默认的阅读（'r'ead）模式\n",
    "f = open('poem.txt')\n",
    "while True:\n",
    "    line = f.readline()\n",
    "    # 零长度指示 EOF\n",
    "    if len(line) == 0:\n",
    "        break\n",
    "    # 每行（`line`）的末尾\n",
    "    # 都已经有了换行符\n",
    "    #因为它是从一个文件中进行读取的\n",
    "    print(line, end='')\n",
    "# 关闭文件\n",
    "f.close()"
   ]
  },
  {
   "cell_type": "markdown",
   "metadata": {},
   "source": [
    "使用内置的 open 函数并指定文件名以及我们所希望使用的打开模式来打开一个文件。打开模式可以是阅读模式（'r'），写入模式（'w'）和追加模式（'a'）。我们还可以选择是通过文本模式（'t'）还是二进制模式（'b'）来读取、写入或追加文本。实际上还有其它更多的模式可用，help(open) 会给你有关它们的更多细节。在默认情况下，open() 会将文件视作文本（text）文件，并以阅读（read）模式打开它。"
   ]
  },
  {
   "cell_type": "markdown",
   "metadata": {},
   "source": [
    "### Pickle\n",
    "\n",
    "Python 提供了一个叫作 Pickle 的标准模块，通过它你可以将任何纯 Python 对象存储到一个文件中，并在稍后将其取回。这叫作持久地（Persistently）存储对象。"
   ]
  },
  {
   "cell_type": "code",
   "execution_count": 48,
   "metadata": {
    "ExecuteTime": {
     "end_time": "2020-10-01T03:08:24.914273Z",
     "start_time": "2020-10-01T03:08:24.873861Z"
    }
   },
   "outputs": [
    {
     "name": "stdout",
     "output_type": "stream",
     "text": [
      "['apple', 'mango', 'carrot']\n"
     ]
    }
   ],
   "source": [
    "import pickle\n",
    "\n",
    "# 我们存储相关对象的文件的名称\n",
    "shoplistfile = 'shoplist.data'\n",
    "# 需要购买的物品清单\n",
    "shoplist = ['apple', 'mango', 'carrot']\n",
    "\n",
    "# 准备写入文件\n",
    "f = open(shoplistfile, 'wb')\n",
    "# 转储对象至文件\n",
    "pickle.dump(shoplist, f)\n",
    "f.close()\n",
    "\n",
    "# 清除 shoplist 变量\n",
    "del shoplist\n",
    "\n",
    "# 重新打开存储文件\n",
    "f = open(shoplistfile, 'rb')\n",
    "# 从文件中载入对象\n",
    "storedlist = pickle.load(f)\n",
    "print(storedlist)"
   ]
  },
  {
   "cell_type": "markdown",
   "metadata": {},
   "source": [
    "## 编码\n",
    "\n",
    "### Unicode\n",
    "\n",
    "如果你正在使用 Python 2，我们又希望能够读写其它非英语语言，我们需要使用 unicode 类型，它全都以字母 u 开头，例如 u\"hello world\"。\n",
    "\n",
    "当我们阅读或写入某一文件或当我们希望与互联网上的其它计算机通信时，我们需要将我们的 Unicode 字符串转换至一个能够被发送和接收的格式，这个格式叫作“UTF-8”。我们可以在这一格式下进行读取与写入，只需使用一个简单的关键字参数到我们的标准 open 函数中\n",
    "\n",
    "每当我们诸如上面那番使用 Unicode 字面量编写一款程序时，我们必须确保 Python 程序已经被告知我们使用的是 UTF-8，因此我们必须将 # encoding=utf-8 这一注释放置在我们程序的顶端。\n",
    "\n",
    "我们使用 io.open 并提供了“编码（Encoding）”与“解码（Decoding）”参数来告诉 Python 我们正在使用 Unicode。"
   ]
  },
  {
   "cell_type": "code",
   "execution_count": 49,
   "metadata": {
    "ExecuteTime": {
     "end_time": "2020-10-01T03:08:24.955205Z",
     "start_time": "2020-10-01T03:08:24.917563Z"
    }
   },
   "outputs": [
    {
     "data": {
      "text/plain": [
       "2"
      ]
     },
     "execution_count": 49,
     "metadata": {},
     "output_type": "execute_result"
    },
    {
     "name": "stdout",
     "output_type": "stream",
     "text": [
      "中文\n"
     ]
    }
   ],
   "source": [
    "# encoding=utf-8\n",
    "import io\n",
    "\n",
    "f = io.open(\"abc.txt\", \"wt\", encoding=\"utf-8\")\n",
    "f.write(u\"中文\")\n",
    "f.close()\n",
    "\n",
    "text = io.open(\"abc.txt\", encoding=\"utf-8\").read()\n",
    "print(text)"
   ]
  },
  {
   "cell_type": "code",
   "execution_count": null,
   "metadata": {},
   "outputs": [],
   "source": []
  }
 ],
 "metadata": {
  "hide_input": false,
  "kernelspec": {
   "display_name": "Python 3",
   "language": "python",
   "name": "python3"
  },
  "language_info": {
   "codemirror_mode": {
    "name": "ipython",
    "version": 3
   },
   "file_extension": ".py",
   "mimetype": "text/x-python",
   "name": "python",
   "nbconvert_exporter": "python",
   "pygments_lexer": "ipython3",
   "version": "3.7.4"
  },
  "toc": {
   "base_numbering": 1,
   "nav_menu": {
    "height": "681px",
    "width": "223px"
   },
   "number_sections": true,
   "sideBar": true,
   "skip_h1_title": false,
   "title_cell": "Table of Contents",
   "title_sidebar": "Contents",
   "toc_cell": false,
   "toc_position": {
    "height": "calc(100% - 180px)",
    "left": "10px",
    "top": "150px",
    "width": "302px"
   },
   "toc_section_display": true,
   "toc_window_display": true
  },
  "varInspector": {
   "cols": {
    "lenName": 16,
    "lenType": 16,
    "lenVar": 40
   },
   "kernels_config": {
    "python": {
     "delete_cmd_postfix": "",
     "delete_cmd_prefix": "del ",
     "library": "var_list.py",
     "varRefreshCmd": "print(var_dic_list())"
    },
    "r": {
     "delete_cmd_postfix": ") ",
     "delete_cmd_prefix": "rm(",
     "library": "var_list.r",
     "varRefreshCmd": "cat(var_dic_list()) "
    }
   },
   "position": {
    "height": "522px",
    "left": "1550px",
    "right": "20px",
    "top": "120px",
    "width": "350px"
   },
   "types_to_exclude": [
    "module",
    "function",
    "builtin_function_or_method",
    "instance",
    "_Feature"
   ],
   "window_display": true
  }
 },
 "nbformat": 4,
 "nbformat_minor": 2
}
