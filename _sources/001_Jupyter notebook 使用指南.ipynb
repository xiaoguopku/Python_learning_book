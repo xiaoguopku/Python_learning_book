{
 "cells": [
  {
   "cell_type": "markdown",
   "metadata": {
    "cell_style": "center"
   },
   "source": [
    "% # Jupyter notebook 使用指南\n",
    "\n",
    "## Jupyter notebook 快捷键\n",
    "\n",
    "快捷键分为命令模式（Command Mode）和编辑模式(Edit Mode)。\n",
    "\n",
    "- 当在**命令模式**的时候，单元格左侧的颜色是**蓝色**的。命令模式操作到对象是单元格（cell）。\n",
    "- 当切换到**编辑模式**到时候，单元格左侧的颜色会变成**绿色**。编辑模式操作的是单元格中的文本和代码。\n",
    "\n",
    "\n",
    "- 切换到**命令**模式：Esc。\n",
    "- 切换到**编辑**模式：Enter。"
   ]
  },
  {
   "cell_type": "markdown",
   "metadata": {},
   "source": [
    "### 共同快捷键\n",
    "\n",
    "- 运行本单元，在下方插入一单元：Alt + Enter\n",
    "- 运行本单元，选中下一单元：Shift + Enter\n",
    "- 运行本单元，选中本单元：Ctrl + Enter\n",
    "- 运行单行：无\n",
    "- 运行所有单元格：用工具按钮或菜单栏\n",
    "- 运行以上单元格：菜单栏：Cell|Run All Above 或 Run All Below\n",
    "- 保存：Ctrl + S"
   ]
  },
  {
   "cell_type": "markdown",
   "metadata": {
    "cell_style": "center"
   },
   "source": [
    "### 编辑模式快捷键\n",
    "\n",
    "- 持续写代码状态\n",
    "    - 运行本单元，在下方插入一单元：Alt + Enter （下一单元自动为code 编辑模式）\n",
    "    - 转化为Markdown编辑模式：Esc（命令模式）+ M（Markdown命令模式）+ Enter（Markdown编辑模式）\n",
    "- 持续运行代码与调试状态\n",
    "    - 运行本单元，选中下一单元：Shift + Enter （下一单元自动为命令模式，要想编辑用Enter）\n",
    "    - 运行本单元，选中本单元：Ctrl + Enter （本单元自动为命令模式，要想编辑用Enter）\n",
    "- 持续编辑内部文本\n",
    "    - 跳转\n",
    "        - 跳到单元格开头：PgUp\n",
    "        - 跳到单元格结尾：PgDn\n",
    "        - 跳到本行开头：Alt + Left\n",
    "        - 跳到本行结尾：Alt + Right\n",
    "        - 跳到左边一个字首：Ctrl + Left\n",
    "        - 跳到右边一个字首：Ctrl + Right\n",
    "    - 撤销\n",
    "        - 撤销：Ctrl + Z\n",
    "        - 取消撤销：Ctrl + Shift + Z 或 Ctrl + Y\n",
    "    - 代码缩进\n",
    "        - 代码补全或缩进：Tab\n",
    "        - 提示：Shift + Tab\n",
    "        - 缩进：Ctrl + ]\n",
    "        - 解除缩进：Ctrl + \\[\n",
    "    - 注释与撤销注释\n",
    "        - Ctrl + /\n",
    "    - 块状文本选中\n",
    "        - 持续按住Alt + /，同时鼠标拖拽选中文本块"
   ]
  },
  {
   "cell_type": "markdown",
   "metadata": {
    "cell_style": "center"
   },
   "source": [
    "### 命令模式快捷键\n",
    "\n",
    "- 显示快捷键帮助：H或P\n",
    "- Markdown 模式与代码模式转换\n",
    "    - 切换到Markdown模式：M\n",
    "    - 切换到code模式：Y\n",
    "    - 切换到raw模式：R\n",
    "- 行号\n",
    "    - 显示本单元格行号：L\n",
    "    - 显示所有单元格行号：Shift + L\n",
    "- 单元格操纵\n",
    "    - 在上方插入新单元：A\n",
    "    - 在下方插入新单元：B\n",
    "    - 复制选中的单元：C\n",
    "    - 剪切选中的单元：X\n",
    "    - 粘贴到下方单元：V\n",
    "    - 粘贴到上方单元：Shift + V\n",
    "    - 删除选中的单元：D,D\n",
    "    - 恢复删除的最后一个单元：Z\n",
    "    - 选中多个单元格：Shift + J 或 Shift + Down 朝下选择cell Shift + K or Shift + Up朝上选择cell 一旦选中多个cell，就可以像对单单一cell一样进行删除/复制/剪切/粘贴/运行了\n",
    "    - 合并选中的单元格：Shift + M\n",
    "    - 拆分单元格：需在编辑模式下Ctrl + Shift + -，在按光标所在行一分为二，其作为上一单元的结尾\n",
    "    - 折叠输出：O\n",
    "- 查找替换：F  \n",
    "\n",
    "- Markdown标题：仅在 markdown 状态下时建议使用标题相关快捷键，如果单元处于其他状态，则会强制切换到 markdown 状态,针对单元格首行，不针对下方的其他行\n",
    "    - 设定 1 级标题：1\n",
    "    - 设定 2 级标题：2\n",
    "    - 设定 3 级标题：3\n",
    "    - 设定 4 级标题：4\n",
    "    - 设定 5 级标题：5\n",
    "    - 设定 6 级标题：6"
   ]
  },
  {
   "cell_type": "markdown",
   "metadata": {
    "cell_style": "center"
   },
   "source": []
  },
  {
   "cell_type": "markdown",
   "metadata": {},
   "source": [
    "## Jupyter notebook 拓展\n"
   ]
  },
  {
   "cell_type": "markdown",
   "metadata": {
    "cell_style": "split"
   },
   "source": [
    "- 增加目录：Table of Contents(2)\n",
    "- 专注模式：zenmode\n",
    "- 实时Markdown预览：Live Markdown Preview\n",
    "- 代码补全（实时）：Hinterland（不好用）\n",
    "- 并排放置单元格：Split Cells Notebook\n",
    "- 代码格式整理：Autopep8 或 Code prettify 注意都需要安装对应的库，Code prettify 似乎比Autopep8效果略好。\n",
    "- 数据查看：Variable Inspector\n",
    "- 命令窗口：scratchpad \n",
    "- 执行时间记录：ExecuteTime\n",
    "- 隐藏（指定单元格）代码：Hide input（导出文档时并不会隐藏）\n",
    "- 隐藏（所有单元格）代码：Hide input all（导出文档时并不会隐藏）\n",
    "- 高亮注释：highlighter（可能导致单元格无法编辑，不好用，未采用）\n",
    "- 高亮选中单词：Highlight selected word"
   ]
  },
  {
   "cell_type": "markdown",
   "metadata": {
    "cell_style": "split"
   },
   "source": [
    "- 代码折叠：Codefolding in Editor\n",
    "- 文档折叠：Collapsible Headings\n",
    "- 公式增加序号：Equation Auto Numbering\n",
    "- 运行结束通知：Notify\n",
    "- Markdown中添加行内Python输出：Python Markdown\n",
    "- 代码模板：Snippets Menu\n",
    "- 文件查找过滤：Tree Filter\n",
    "- 代码注释：Comment/Uncomment Hotkey（系统本身有，未使用）\n",
    "- 代码运行拓展：Runtools（太复杂，未采用）\n",
    "- 限制输出：Limit Output（似乎是限制字数而非行数，没采用）\n",
    "- 移动单元格：Move selected cells（未采用）"
   ]
  },
  {
   "cell_type": "markdown",
   "metadata": {},
   "source": [
    "## 结果输出\n",
    "\n",
    "当代码结尾无分号时，结尾处的常量、变量结果可以直接作为输出结果显示，但是各单元格只显示最后的结果。如下面只显示变量b"
   ]
  },
  {
   "cell_type": "code",
   "execution_count": 2,
   "metadata": {
    "ExecuteTime": {
     "end_time": "2020-04-19T03:14:42.401192Z",
     "start_time": "2020-04-19T03:14:42.396017Z"
    }
   },
   "outputs": [
    {
     "data": {
      "text/plain": [
       "2"
      ]
     },
     "execution_count": 2,
     "metadata": {},
     "output_type": "execute_result"
    }
   ],
   "source": [
    "a=1\n",
    "b=2\n",
    "\n",
    "a\n",
    "b"
   ]
  },
  {
   "cell_type": "markdown",
   "metadata": {},
   "source": [
    "如果结尾有分号，则结果不显示"
   ]
  },
  {
   "cell_type": "code",
   "execution_count": 3,
   "metadata": {
    "ExecuteTime": {
     "end_time": "2020-04-19T03:18:50.997048Z",
     "start_time": "2020-04-19T03:18:50.994385Z"
    }
   },
   "outputs": [],
   "source": [
    "a=1\n",
    "b=2\n",
    "c=3\n",
    "\n",
    "a\n",
    "b;"
   ]
  },
  {
   "cell_type": "markdown",
   "metadata": {},
   "source": [
    "如果想显示多个变量结果，用`print`函数。`print`函数不受分号影响。"
   ]
  },
  {
   "cell_type": "code",
   "execution_count": 4,
   "metadata": {
    "ExecuteTime": {
     "end_time": "2020-04-19T10:16:32.638454Z",
     "start_time": "2020-04-19T10:16:32.631172Z"
    }
   },
   "outputs": [
    {
     "name": "stdout",
     "output_type": "stream",
     "text": [
      "1\n",
      "2\n"
     ]
    },
    {
     "data": {
      "text/plain": [
       "2"
      ]
     },
     "execution_count": 4,
     "metadata": {},
     "output_type": "execute_result"
    }
   ],
   "source": [
    "a=1\n",
    "b=2\n",
    "\n",
    "print(a);\n",
    "print(b);\n",
    "b"
   ]
  },
  {
   "cell_type": "markdown",
   "metadata": {
    "ExecuteTime": {
     "end_time": "2020-04-19T10:17:09.680477Z",
     "start_time": "2020-04-19T10:17:09.675361Z"
    }
   },
   "source": [
    "如果想在一个cell中输出多行，可以在代码最上方cell添加以下代码"
   ]
  },
  {
   "cell_type": "code",
   "execution_count": 5,
   "metadata": {
    "ExecuteTime": {
     "end_time": "2020-05-02T13:11:19.233908Z",
     "start_time": "2020-05-02T13:11:19.231237Z"
    }
   },
   "outputs": [],
   "source": [
    "from IPython.core.interactiveshell import InteractiveShell\n",
    "InteractiveShell.ast_node_interactivity = \"all\" "
   ]
  },
  {
   "cell_type": "markdown",
   "metadata": {},
   "source": [
    "如果要回复默认，改为如下即可："
   ]
  },
  {
   "cell_type": "code",
   "execution_count": 6,
   "metadata": {
    "ExecuteTime": {
     "end_time": "2020-04-19T10:18:03.434658Z",
     "start_time": "2020-04-19T10:18:03.431615Z"
    }
   },
   "outputs": [],
   "source": [
    "from IPython.core.interactiveshell import InteractiveShell\n",
    "InteractiveShell.ast_node_interactivity = \"none\" "
   ]
  },
  {
   "cell_type": "markdown",
   "metadata": {},
   "source": [
    "设置所有的Jupyter实例，参考https://blog.csdn.net/enter89/article/details/90633718、https://blog.csdn.net/linecho/article/details/82858728 和 https://www.dataquest.io/blog/jupyter-notebook-tips-tricks-shortcuts/"
   ]
  }
 ],
 "metadata": {
  "hide_input": false,
  "kernelspec": {
   "display_name": "Python 3",
   "language": "python",
   "name": "python3"
  },
  "language_info": {
   "codemirror_mode": {
    "name": "ipython",
    "version": 3
   },
   "file_extension": ".py",
   "mimetype": "text/x-python",
   "name": "python",
   "nbconvert_exporter": "python",
   "pygments_lexer": "ipython3",
   "version": "3.7.4"
  },
  "toc": {
   "base_numbering": 1,
   "nav_menu": {},
   "number_sections": true,
   "sideBar": true,
   "skip_h1_title": false,
   "title_cell": "Table of Contents",
   "title_sidebar": "Contents",
   "toc_cell": false,
   "toc_position": {
    "height": "calc(100% - 180px)",
    "left": "10px",
    "top": "150px",
    "width": "256px"
   },
   "toc_section_display": true,
   "toc_window_display": true
  },
  "varInspector": {
   "cols": {
    "lenName": 16,
    "lenType": 16,
    "lenVar": 40
   },
   "kernels_config": {
    "python": {
     "delete_cmd_postfix": "",
     "delete_cmd_prefix": "del ",
     "library": "var_list.py",
     "varRefreshCmd": "print(var_dic_list())"
    },
    "r": {
     "delete_cmd_postfix": ") ",
     "delete_cmd_prefix": "rm(",
     "library": "var_list.r",
     "varRefreshCmd": "cat(var_dic_list()) "
    }
   },
   "types_to_exclude": [
    "module",
    "function",
    "builtin_function_or_method",
    "instance",
    "_Feature"
   ],
   "window_display": false
  }
 },
 "nbformat": 4,
 "nbformat_minor": 2
}
